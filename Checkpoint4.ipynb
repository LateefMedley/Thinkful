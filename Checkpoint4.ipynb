{
 "cells": [
  {
   "cell_type": "markdown",
   "metadata": {},
   "source": [
    "## Assignments\n",
    "\n",
    "To close out this checkpoint, you're going to do three assignments. For the first assignment, you'll write up a short answer to a question.  For the second two assignments, you'll do your work in Jupyter notebooks.\n",
    "\n",
    "\n",
    "Please submit links to all your work below. This is not a graded checkpoint, but you should discuss your solutions with your mentor. Also, when you're done, compare your work to [these example solutions](https://github.com/Thinkful-Ed/machine-learning-regression-problems/blob/master/notebooks/4.solution_understanding_the_relationship.ipynb).\n",
    "\n",
    "### 1. Interpretation and significance\n",
    "\n",
    "Suppose that we would like to know how much families in the US are spending on recreation annually. We've estimated the following model:\n",
    "\n",
    "$$ expenditure = 873 + 0.0012annual\\_income + 0.00002annual\\_income^2 - 223.57have\\_kids $$\n",
    "\n",
    "*expenditure* is the annual spending on recreation in US dollars, *annual_income* is the annual income in US dollars, and *have_kids* is a dummy variable indicating the families with children. Interpret the estimated coefficients. What additional statistics should be given in order to make sure that your interpretations make sense statistically. Write up your answer."
   ]
  },
  {
   "cell_type": "markdown",
   "metadata": {},
   "source": [
    "    * For every child a family has, they spend $223.57 less dollars annually on average\n",
    "    * I'm unsure about the coefficients of annual income - they seem to be suspicously weakly correlated to the target\n",
    "    \n",
    "    * A summary chart would be nice so we could see some statistics of the model"
   ]
  },
  {
   "cell_type": "markdown",
   "metadata": {},
   "source": [
    "### 2. Weather model\n",
    "\n",
    "In this exercise, you'll work with the historical temperature data from the previous checkpoint. To complete this assignment, submit a link to a Jupyter notebook containing your solutions to the following tasks:\n",
    "\n",
    "* First, load the dataset from the **weatherinszeged** table from Thinkful's database.\n",
    "* Build a linear regression model where your target variable is the difference between the *apparenttemperature* and the *temperature*. As explanatory variables, use *humidity* and *windspeed*. Now, estimate your model using OLS. Are the estimated coefficients statistically significant? Are the signs of the estimated coefficients in line with your previous expectations? Interpret the estimated coefficients. What are the relations between the target and the explanatory variables? \n",
    "* Next, include the interaction of *humidity* and *windspeed* to the model above and estimate the model using OLS. Are the coefficients statistically significant? Did the signs of the estimated coefficients for *humidity* and *windspeed* change? Interpret the estimated coefficients."
   ]
  },
  {
   "cell_type": "code",
   "execution_count": 1,
   "metadata": {},
   "outputs": [],
   "source": [
    "import numpy as np\n",
    "import pandas as pd\n",
    "from sklearn import linear_model\n",
    "import matplotlib.pyplot as plt\n",
    "import seaborn as sns\n",
    "import statsmodels.api as sm\n",
    "from sqlalchemy import create_engine\n",
    "\n",
    "import warnings\n",
    "warnings.filterwarnings('ignore')"
   ]
  },
  {
   "cell_type": "code",
   "execution_count": null,
   "metadata": {
    "scrolled": true
   },
   "outputs": [],
   "source": [
    "postgres_user = 'dsbc_student'\n",
    "postgres_pw = '7*.8G9QH21'\n",
    "postgres_host = '142.93.121.174'\n",
    "postgres_port = '5432'\n",
    "postgres_db = 'weatherinszeged'\n",
    "\n",
    "engine = create_engine('postgresql://{}:{}@{}:{}/{}'.format(\n",
    "    postgres_user, postgres_pw, postgres_host, postgres_port, postgres_db))\n",
    "temp_hist = pd.read_sql_query('select * from weatherinszeged',con=engine)\n",
    "\n",
    "# no need for an open connection, as we're only doing a single query\n",
    "engine.dispose()\n",
    "\n",
    "\n",
    "temp_hist.head()"
   ]
  },
  {
   "cell_type": "code",
   "execution_count": null,
   "metadata": {},
   "outputs": [],
   "source": [
    "temp_data = pd.DataFrame()\n",
    "temp_data['target'] = temp_hist['apparenttemperature'] - temp_hist['temperature']\n",
    "temp_data['humidity'] = temp_hist['humidity']\n",
    "temp_data['windspeed'] = temp_hist['windspeed']"
   ]
  },
  {
   "cell_type": "code",
   "execution_count": null,
   "metadata": {
    "scrolled": false
   },
   "outputs": [],
   "source": [
    "# We create a LinearRegression model object\n",
    "lrm = linear_model.LinearRegression()\n",
    "\n",
    "# We then select data and target \n",
    "data = temp_data.iloc[:, 1:]\n",
    "target = temp_data['target']\n",
    "\n",
    "# fit method estimates the coefficients using OLS\n",
    "lrm.fit(data, target)\n",
    "\n",
    "# Next we take a look at the results\n",
    "# We need to manually add a constant in statsmodels' sm\n",
    "data = sm.add_constant(data)\n",
    "\n",
    "results = sm.OLS(target, data).fit()\n",
    "\n",
    "results.summary()"
   ]
  },
  {
   "cell_type": "markdown",
   "metadata": {},
   "source": [
    "In the previous checkpoint we determined that the estimated coefficients statistically are significant and the same is true in this case. It's important to point out that the target is temp - apparent_temp and there appears to be less std error in this model than in the last. \n",
    "\n",
    "For every unit 1 of humidity there is -3.0292 less in our target and for every unit 1 of windspeed there is -0.0119 less of our target when you add our constant. \n",
    "\n",
    "Alturnatively you could describe this relationship as: \n",
    "\n",
    "apparenttemperature - temperature = 2.438 + (-3.0292 * humidity) + (-0.1193 * windspeed)"
   ]
  },
  {
   "cell_type": "markdown",
   "metadata": {},
   "source": [
    "* Next, include the interaction of *humidity* and *windspeed* to the model above and estimate the model using OLS. Are the coefficients statistically significant? Did the signs of the estimated coefficients for *humidity* and *windspeed* change? Interpret the estimated coefficients."
   ]
  },
  {
   "cell_type": "code",
   "execution_count": null,
   "metadata": {},
   "outputs": [],
   "source": [
    "# First select data and target \n",
    "data2 = temp_data.iloc[:, 1:]\n",
    "data2['humidity_windspeed'] = temp_hist['humidity'] * temp_hist['windspeed']\n",
    "target = temp_data['target']\n",
    "\n",
    "# We create a LinearRegression model object\n",
    "lrm = linear_model.LinearRegression()\n",
    "\n",
    "# We need to manually add a constant in statsmodels' sm\n",
    "data2 = sm.add_constant(data2)\n",
    "\n",
    "# fit method estimates the coefficients using OLS\n",
    "lrm.fit(data2, target)\n",
    "\n",
    "results = sm.OLS(target, data2).fit()\n",
    "\n",
    "results.summary()"
   ]
  },
  {
   "cell_type": "markdown",
   "metadata": {},
   "source": [
    "All of the coefficients remain statistically significant. The coefficients have flipped from negative to positive. The interaction feature has a negative coefficient. \n",
    "\n",
    "You could describe this relationship as: \n",
    "\n",
    "apparenttemperature - temperature = 0.0839 + (0.1775 * humidity) + (0.905 * windspeed) + (interaction * -0.2971)"
   ]
  },
  {
   "cell_type": "markdown",
   "metadata": {},
   "source": [
    "###  3. House prices model\n",
    "\n",
    "In this exercise, you'll interpret your house prices model. To complete this assignment, submit a link to a Jupyter notebook containing your solutions to the following tasks:\n",
    "\n",
    "* Load the **houseprices** data from Thinkful's database.\n",
    "* Run your house prices model again and interpret the results. Which features are statistically significant, and which are not?\n",
    "* Now, exclude the insignificant features from your model. Did anything change?\n",
    "* Interpret the statistically significant coefficients by quantifying their relations with the house prices. Which features have a more prominent effect on house prices?\n",
    "* Do the results sound reasonable to you? If not, try to explain the potential reasons."
   ]
  },
  {
   "cell_type": "code",
   "execution_count": null,
   "metadata": {},
   "outputs": [],
   "source": [
    "postgres_user = 'dsbc_student'\n",
    "postgres_pw = '7*.8G9QH21'\n",
    "postgres_host = '142.93.121.174'\n",
    "postgres_port = '5432'\n",
    "postgres_db = 'houseprices'\n",
    "\n",
    "engine = create_engine('postgresql://{}:{}@{}:{}/{}'.format(\n",
    "    postgres_user, postgres_pw, postgres_host, postgres_port, postgres_db))\n",
    "homes_df = pd.read_sql_query('select * from houseprices',con=engine)\n",
    "\n",
    "engine = create_engine('postgresql://{}:{}@{}:{}/{}'.format(\n",
    "    postgres_user, postgres_pw, postgres_host, postgres_port, postgres_db))\n",
    "homes_df = pd.read_sql_query('select * from houseprices',con=engine)\n",
    "\n",
    "# no need for an open connection, as we're only doing a single query\n",
    "engine.dispose()\n"
   ]
  },
  {
   "cell_type": "code",
   "execution_count": null,
   "metadata": {},
   "outputs": [],
   "source": [
    "# Preparing data for modeling about house prices \n",
    "\n",
    "# ojects holding columns\n",
    "non_numeric_columns = homes_df.select_dtypes(['object']).columns\n",
    "numeric_columns = homes_df.select_dtypes(['int64', 'float64']).columns\n",
    "\n",
    "# dropping columns Missing data\n",
    "homes_df = homes_df.drop(['poolqc', 'miscfeature', 'alley', \n",
    "                          'fence', 'fireplacequ', 'lotfrontage'], axis=1)\n",
    "\n",
    "# Dropping missing observations\n",
    "homes_df = homes_df.dropna(axis=0)\n",
    "\n",
    "numeric_columns = numeric_columns.drop(['id'])\n",
    "\n",
    "FILL_LIST = []\n",
    "for cols in homes_df[:]:\n",
    "    if cols in numeric_columns:\n",
    "        FILL_LIST.append(cols)"
   ]
  },
  {
   "cell_type": "code",
   "execution_count": null,
   "metadata": {},
   "outputs": [],
   "source": [
    "from scipy.stats.mstats import winsorize\n",
    "\n",
    "homes_win = homes_df.copy()\n",
    "\n",
    "for col in FILL_LIST:\n",
    "    homes_win[col] = winsorize(homes_win[col], (.05, .14))"
   ]
  },
  {
   "cell_type": "code",
   "execution_count": null,
   "metadata": {
    "scrolled": true
   },
   "outputs": [],
   "source": [
    "from sklearn import preprocessing\n",
    "\n",
    "def cat_converter(df):\n",
    "    for cols in df:\n",
    "        if cols in non_numeric_columns:\n",
    "            \n",
    "            # Create a label (category) encoder object\n",
    "            le = preprocessing.LabelEncoder()\n",
    "            \n",
    "            # Create a label (category) encoder object\n",
    "            le.fit(df[cols])\n",
    "            \n",
    "            # Apply the fitted encoder to the pandas column\n",
    "            df[cols] = le.transform(df[cols]) \n",
    "    return df\n",
    "\n",
    "cat_converter(homes_win)"
   ]
  },
  {
   "cell_type": "code",
   "execution_count": null,
   "metadata": {},
   "outputs": [],
   "source": [
    "# selecting data and target\n",
    "homes_mod1 = homes_win[['lotarea', 'bsmtfinsf1', 'secondflrsf', 'grlivarea', 'saleprice']]\n"
   ]
  },
  {
   "cell_type": "code",
   "execution_count": null,
   "metadata": {},
   "outputs": [],
   "source": [
    "# We create a LinearRegression model object\n",
    "lrm = linear_model.LinearRegression()\n",
    "\n",
    "data = homes_mod1.iloc[:, :-1]\n",
    "target = homes_mod1['saleprice']\n",
    "\n",
    "# fit method estimates the coefficients using OLS\n",
    "lrm.fit(data, target)\n",
    "\n",
    "# We need to manually add a constant\n",
    "# in statsmodels' sm\n",
    "data = sm.add_constant(data)\n",
    "\n",
    "results = sm.OLS(target, data).fit()\n",
    "\n",
    "results.summary()"
   ]
  },
  {
   "cell_type": "markdown",
   "metadata": {},
   "source": [
    "All of the variables used are significant to the target. \n",
    "\n",
    "The relationships between features, coefficients, and the target can be described as such:\n",
    "\n",
    "saleprice = -5339.76 + (lotarea\t* 1.1096) + (bsmtfinsf1\t* 21.9535) + (secondflrsf * -34.5259) + (grlivarea * 117.3872)\n",
    "\n",
    "*** Note we must make sure our conditions hold as multicollinearity is a problem for OLS. \n",
    "\n",
    "The constant's coefficient's p-values seems to be a bit high compared to our first evaluation, removing a variable due to multicollinearity may adjust this. It makes since that all the variables seems to be significant based on the chi-squared test I used to pick variables. "
   ]
  },
  {
   "cell_type": "code",
   "execution_count": null,
   "metadata": {},
   "outputs": [],
   "source": []
  }
 ],
 "metadata": {
  "kernelspec": {
   "display_name": "Python 3",
   "language": "python",
   "name": "python3"
  },
  "language_info": {
   "codemirror_mode": {
    "name": "ipython",
    "version": 3
   },
   "file_extension": ".py",
   "mimetype": "text/x-python",
   "name": "python",
   "nbconvert_exporter": "python",
   "pygments_lexer": "ipython3",
   "version": "3.7.3"
  }
 },
 "nbformat": 4,
 "nbformat_minor": 2
}
