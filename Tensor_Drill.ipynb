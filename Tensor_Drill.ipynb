{
 "cells": [
  {
   "cell_type": "markdown",
   "metadata": {},
   "source": [
    "## Drill\n",
    "\n",
    "Now you have the basic elements of tensor flow, so it's time to build some things on your own. In the cell below, create the following tensors:\n",
    "\n",
    "1. Add a two constants, 3 and 2, together.\n",
    "\n",
    "2. Divide a placeholder by 2.\n",
    "\n",
    "3. Take two placeholders and multiply them.\n",
    "\n",
    "4. Sum a 7 and a placeholder, then multiply it by two."
   ]
  },
  {
   "cell_type": "code",
   "execution_count": 1,
   "metadata": {},
   "outputs": [
    {
     "name": "stdout",
     "output_type": "stream",
     "text": [
      "WARNING:tensorflow:From C:\\Users\\latee\\Anaconda3\\lib\\site-packages\\tensorflow_core\\python\\compat\\v2_compat.py:88: disable_resource_variables (from tensorflow.python.ops.variable_scope) is deprecated and will be removed in a future version.\n",
      "Instructions for updating:\n",
      "non-resource variables are not supported in the long term\n",
      "1.  9.0 \n",
      "2.  3.5 \n",
      "3.  49.0 \n",
      "4.  28.0\n"
     ]
    }
   ],
   "source": [
    "import tensorflow.compat.v1 as tf\n",
    "tf.disable_v2_behavior()\n",
    "\n",
    "# Creating Graph\n",
    "x1 = tf.constant(3, tf.float32)\n",
    "x2 = tf.constant(6, tf.float32)\n",
    "add = tf.add(x1, x2, name='add')\n",
    "p1 = tf.placeholder(tf.float32)\n",
    "divide = tf.divide(p1, tf.constant(2, tf.float32), name = 'divide')\n",
    "p2 = tf.placeholder(tf.float32)\n",
    "multiply = tf.multiply(p1, p2, name = 'multiply')\n",
    "seven_up = tf.add(p2, tf.constant(7, tf.float32))\n",
    "twice = tf.multiply(seven_up, 2, name = 'twice')\n",
    "\n",
    "# Launching the graph in a session\n",
    "with tf.Session() as sess:\n",
    "    # run the variable initializer\n",
    "        # also feeding dictionary indicating what to use for place holder values\n",
    "    a, d, m, t = sess.run([add, divide, multiply, twice], feed_dict={p1: 7,\n",
    "                                                                     p2: 7})\n",
    "    # now we should be able to print the nodes requested \n",
    "    print(\"1. \", a, \"\\n2. \", d, \"\\n3. \", m, \"\\n4. \", t)\n",
    "    \n",
    "    # Creating  Writer for the logs in the program\n",
    "    writer = tf.summary.FileWriter('.flow', sess.graph)"
   ]
  },
  {
   "cell_type": "markdown",
   "metadata": {},
   "source": [
    "### Drill Graph"
   ]
  },
  {
   "cell_type": "markdown",
   "metadata": {},
   "source": [
    "![GRAPH](img/Drill_Graph.jpg)"
   ]
  },
  {
   "cell_type": "code",
   "execution_count": null,
   "metadata": {},
   "outputs": [],
   "source": []
  },
  {
   "cell_type": "code",
   "execution_count": null,
   "metadata": {},
   "outputs": [],
   "source": []
  },
  {
   "cell_type": "code",
   "execution_count": null,
   "metadata": {},
   "outputs": [],
   "source": []
  },
  {
   "cell_type": "code",
   "execution_count": null,
   "metadata": {},
   "outputs": [],
   "source": []
  },
  {
   "cell_type": "markdown",
   "metadata": {},
   "source": []
  }
 ],
 "metadata": {
  "kernelspec": {
   "display_name": "Python 3",
   "language": "python",
   "name": "python3"
  },
  "language_info": {
   "codemirror_mode": {
    "name": "ipython",
    "version": 3
   },
   "file_extension": ".py",
   "mimetype": "text/x-python",
   "name": "python",
   "nbconvert_exporter": "python",
   "pygments_lexer": "ipython3",
   "version": "3.7.4"
  }
 },
 "nbformat": 4,
 "nbformat_minor": 4
}
