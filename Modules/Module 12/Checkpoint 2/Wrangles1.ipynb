{
 "cells": [
  {
   "cell_type": "code",
   "execution_count": 1,
   "metadata": {},
   "outputs": [
    {
     "name": "stderr",
     "output_type": "stream",
     "text": [
      "[nltk_data] Downloading package punkt to\n",
      "[nltk_data]     C:\\Users\\latee\\AppData\\Roaming\\nltk_data...\n",
      "[nltk_data]   Package punkt is already up-to-date!\n"
     ]
    }
   ],
   "source": [
    "import pandas as pd\n",
    "import numpy as np\n",
    "import os    \n",
    "from chardet import detect\n",
    "import string\n",
    "import re\n",
    "import nltk\n",
    "nltk.download('punkt')\n",
    "from pandas.api.types import is_string_dtype\n",
    "import ast\n",
    "import pattern\n",
    "from spellchecker import SpellChecker\n",
    "import time\n",
    "import gensim.models.word2vec as w2v"
   ]
  },
  {
   "cell_type": "markdown",
   "metadata": {},
   "source": [
    "### Write a cleaning script that will load the raw data and whip it into shape\n",
    "\n",
    "#### To complete this challenge, determine the \n",
    "\n",
    "1. the five most common journals and the total articles for each\n",
    "1. calculate the mean, median, and standard deviation of the open-access cost per article for each journal"
   ]
  },
  {
   "cell_type": "code",
   "execution_count": 2,
   "metadata": {},
   "outputs": [],
   "source": [
    "PATH = r'C:\\Users\\latee\\Downloads\\WELLCOME_APCspend2013_forThinkful.csv'"
   ]
  },
  {
   "cell_type": "code",
   "execution_count": 3,
   "metadata": {},
   "outputs": [
    {
     "data": {
      "text/plain": [
       "'Windows-1254'"
      ]
     },
     "execution_count": 3,
     "metadata": {},
     "output_type": "execute_result"
    }
   ],
   "source": [
    "# I detected a encoding error when attempting to read the file as a csv\n",
    "# UnicodeDecodeError: 'utf-8' codec can't decode byte 0xa3 in position 6: invalid start byte\n",
    "# The following returns who encoded the data\n",
    "def get_encoding_type(file):\n",
    "    with open(file, 'rb') as f:\n",
    "        rawdata = f.read()\n",
    "    return detect(rawdata)['encoding']\n",
    "get_encoding_type(PATH)"
   ]
  },
  {
   "cell_type": "markdown",
   "metadata": {},
   "source": [
    "##### Switching the engine sovled the problem by allowing us to be more inclusive in the types of characters we can import"
   ]
  },
  {
   "cell_type": "code",
   "execution_count": 4,
   "metadata": {},
   "outputs": [],
   "source": [
    "APC_SPEND = pd.read_csv(PATH, engine='python')\n",
    "orginal = APC_SPEND.copy()"
   ]
  },
  {
   "cell_type": "code",
   "execution_count": 5,
   "metadata": {},
   "outputs": [],
   "source": [
    "# Making Columns Lowercase\n",
    "APC_SPEND.columns = map(lambda x:x.lower(), APC_SPEND.columns)\n",
    "# Recasting the Column as (string type) & removing digits new char lines and other special chars \n",
    "APC_SPEND['journal title'] = APC_SPEND['journal title'].str.lower().astype(str)\n",
    "APC_SPEND['journal title'] = APC_SPEND['journal title'].map(lambda x: re.sub(r'[\\d\\n,.&:-]', '', x))\n",
    "# Renaming the Cost Column & Removing Special Chars \n",
    "APC_SPEND['cost'] = APC_SPEND[\"cost (£) charged to wellcome (inc vat when charged)\"]\n",
    "APC_SPEND = APC_SPEND.drop(['cost (£) charged to wellcome (inc vat when charged)'], axis=1)\n",
    "APC_SPEND['cost'] = APC_SPEND['cost'].map(lambda x: re.sub(r'[^\\d\\n,.]', '', x)).astype('float32')"
   ]
  },
  {
   "cell_type": "code",
   "execution_count": 6,
   "metadata": {},
   "outputs": [
    {
     "data": {
      "text/html": [
       "<div>\n",
       "<style scoped>\n",
       "    .dataframe tbody tr th:only-of-type {\n",
       "        vertical-align: middle;\n",
       "    }\n",
       "\n",
       "    .dataframe tbody tr th {\n",
       "        vertical-align: top;\n",
       "    }\n",
       "\n",
       "    .dataframe thead th {\n",
       "        text-align: right;\n",
       "    }\n",
       "</style>\n",
       "<table border=\"1\" class=\"dataframe\">\n",
       "  <thead>\n",
       "    <tr style=\"text-align: right;\">\n",
       "      <th></th>\n",
       "      <th>pmid/pmcid</th>\n",
       "      <th>publisher</th>\n",
       "      <th>journal title</th>\n",
       "      <th>article title</th>\n",
       "      <th>cost</th>\n",
       "    </tr>\n",
       "  </thead>\n",
       "  <tbody>\n",
       "    <tr>\n",
       "      <td>0</td>\n",
       "      <td>NaN</td>\n",
       "      <td>CUP</td>\n",
       "      <td>psychological medicine</td>\n",
       "      <td>Reduced parahippocampal cortical thickness in ...</td>\n",
       "      <td>0.000000</td>\n",
       "    </tr>\n",
       "    <tr>\n",
       "      <td>1</td>\n",
       "      <td>PMC3679557</td>\n",
       "      <td>ACS</td>\n",
       "      <td>biomacromolecules</td>\n",
       "      <td>Structural characterization of a Model Gram-ne...</td>\n",
       "      <td>2381.040039</td>\n",
       "    </tr>\n",
       "    <tr>\n",
       "      <td>2</td>\n",
       "      <td>23043264  PMC3506128</td>\n",
       "      <td>ACS</td>\n",
       "      <td>j med chem</td>\n",
       "      <td>Fumaroylamino-4,5-epoxymorphinans and related ...</td>\n",
       "      <td>642.559998</td>\n",
       "    </tr>\n",
       "    <tr>\n",
       "      <td>3</td>\n",
       "      <td>23438330 PMC3646402</td>\n",
       "      <td>ACS</td>\n",
       "      <td>j med chem</td>\n",
       "      <td>Orvinols with mixed kappa/mu opioid receptor a...</td>\n",
       "      <td>669.640015</td>\n",
       "    </tr>\n",
       "    <tr>\n",
       "      <td>4</td>\n",
       "      <td>23438216 PMC3601604</td>\n",
       "      <td>ACS</td>\n",
       "      <td>j org chem</td>\n",
       "      <td>Regioselective opening of myo-inositol orthoes...</td>\n",
       "      <td>685.880005</td>\n",
       "    </tr>\n",
       "    <tr>\n",
       "      <td>...</td>\n",
       "      <td>...</td>\n",
       "      <td>...</td>\n",
       "      <td>...</td>\n",
       "      <td>...</td>\n",
       "      <td>...</td>\n",
       "    </tr>\n",
       "    <tr>\n",
       "      <td>2122</td>\n",
       "      <td>2901593</td>\n",
       "      <td>Wolters Kluwer Health</td>\n",
       "      <td>circulation research</td>\n",
       "      <td>Mechanistic Links Between Na+ Channel (SCN5A) ...</td>\n",
       "      <td>1334.150024</td>\n",
       "    </tr>\n",
       "    <tr>\n",
       "      <td>2123</td>\n",
       "      <td>3748854</td>\n",
       "      <td>Wolters Kluwer Health</td>\n",
       "      <td>aids</td>\n",
       "      <td>Evaluation of an empiric risk screening score ...</td>\n",
       "      <td>1834.770020</td>\n",
       "    </tr>\n",
       "    <tr>\n",
       "      <td>2124</td>\n",
       "      <td>3785148</td>\n",
       "      <td>Wolters Kluwer Health</td>\n",
       "      <td>pediatr infect dis j</td>\n",
       "      <td>Topical umbilical cord care for prevention of ...</td>\n",
       "      <td>1834.770020</td>\n",
       "    </tr>\n",
       "    <tr>\n",
       "      <td>2125</td>\n",
       "      <td>PMCID:\\n    PMC3647051\\n</td>\n",
       "      <td>Wolters Kluwer N.V./Lippinott</td>\n",
       "      <td>aids</td>\n",
       "      <td>Grassroots Community Organisations' Contributi...</td>\n",
       "      <td>2374.520020</td>\n",
       "    </tr>\n",
       "    <tr>\n",
       "      <td>2126</td>\n",
       "      <td>PMID: 23846567  (Epub July 2013)</td>\n",
       "      <td>Wolters Kluwers</td>\n",
       "      <td>journal of acquired immune deficiency syndromes</td>\n",
       "      <td>A novel community health worker tool outperfor...</td>\n",
       "      <td>2034.750000</td>\n",
       "    </tr>\n",
       "  </tbody>\n",
       "</table>\n",
       "<p>2127 rows × 5 columns</p>\n",
       "</div>"
      ],
      "text/plain": [
       "                            pmid/pmcid                      publisher  \\\n",
       "0                                  NaN                            CUP   \n",
       "1                           PMC3679557                            ACS   \n",
       "2                23043264  PMC3506128                             ACS   \n",
       "3                  23438330 PMC3646402                            ACS   \n",
       "4                 23438216 PMC3601604                             ACS   \n",
       "...                                ...                            ...   \n",
       "2122                           2901593          Wolters Kluwer Health   \n",
       "2123                           3748854         Wolters Kluwer Health    \n",
       "2124                           3785148         Wolters Kluwer Health    \n",
       "2125          PMCID:\\n    PMC3647051\\n  Wolters Kluwer N.V./Lippinott   \n",
       "2126  PMID: 23846567  (Epub July 2013)                Wolters Kluwers   \n",
       "\n",
       "                                        journal title  \\\n",
       "0                              psychological medicine   \n",
       "1                                   biomacromolecules   \n",
       "2                                          j med chem   \n",
       "3                                          j med chem   \n",
       "4                                          j org chem   \n",
       "...                                               ...   \n",
       "2122                             circulation research   \n",
       "2123                                             aids   \n",
       "2124                             pediatr infect dis j   \n",
       "2125                                             aids   \n",
       "2126  journal of acquired immune deficiency syndromes   \n",
       "\n",
       "                                          article title         cost  \n",
       "0     Reduced parahippocampal cortical thickness in ...     0.000000  \n",
       "1     Structural characterization of a Model Gram-ne...  2381.040039  \n",
       "2     Fumaroylamino-4,5-epoxymorphinans and related ...   642.559998  \n",
       "3     Orvinols with mixed kappa/mu opioid receptor a...   669.640015  \n",
       "4     Regioselective opening of myo-inositol orthoes...   685.880005  \n",
       "...                                                 ...          ...  \n",
       "2122  Mechanistic Links Between Na+ Channel (SCN5A) ...  1334.150024  \n",
       "2123  Evaluation of an empiric risk screening score ...  1834.770020  \n",
       "2124  Topical umbilical cord care for prevention of ...  1834.770020  \n",
       "2125  Grassroots Community Organisations' Contributi...  2374.520020  \n",
       "2126  A novel community health worker tool outperfor...  2034.750000  \n",
       "\n",
       "[2127 rows x 5 columns]"
      ]
     },
     "execution_count": 6,
     "metadata": {},
     "output_type": "execute_result"
    }
   ],
   "source": [
    "APC_SPEND"
   ]
  },
  {
   "cell_type": "code",
   "execution_count": 7,
   "metadata": {},
   "outputs": [
    {
     "name": "stdout",
     "output_type": "stream",
     "text": [
      "Null Values in  pmid/pmcid 199\n",
      "Null Values in  publisher 0\n",
      "Null Values in  journal title 0\n",
      "Null Values in  article title 0\n",
      "Null Values in  cost 0\n"
     ]
    }
   ],
   "source": [
    "def null_values(df):\n",
    "    for cols in df.columns:\n",
    "        print('Null Values in ', cols, df[cols].isnull().sum())\n",
    "    return\n",
    "null_values(APC_SPEND)"
   ]
  },
  {
   "cell_type": "code",
   "execution_count": 8,
   "metadata": {},
   "outputs": [],
   "source": [
    "spell = SpellChecker()\n",
    "stop_words = nltk.corpus.stopwords.words('english')"
   ]
  },
  {
   "cell_type": "code",
   "execution_count": 9,
   "metadata": {},
   "outputs": [
    {
     "name": "stdout",
     "output_type": "stream",
     "text": [
      "406.54006934165955\n"
     ]
    }
   ],
   "source": [
    "t0 = time.time()\n",
    "\n",
    "# Removing Stop Words & Spell Checking the Journal Title Column\n",
    "APC_SPEND['journal title'] = APC_SPEND['journal title'].apply(lambda x: [spell.correction(j_names) for j_names in x.split()]).astype(str)\n",
    "\n",
    "t1 = time.time()\n",
    "total = t1-t0\n",
    "print(total)"
   ]
  },
  {
   "cell_type": "code",
   "execution_count": 10,
   "metadata": {},
   "outputs": [
    {
     "data": {
      "text/plain": [
       "0                           ['psychological', 'medicine']\n",
       "1                                   ['biomacromolecules']\n",
       "2                                    ['j', 'med', 'chem']\n",
       "3                                    ['j', 'med', 'chem']\n",
       "4                                    ['j', 'org', 'chem']\n",
       "                              ...                        \n",
       "2122                          ['circulation', 'research']\n",
       "2123                                             ['aids']\n",
       "2124                    ['mediate', 'infect', 'dis', 'j']\n",
       "2125                                             ['aids']\n",
       "2126    ['journal', 'of', 'acquired', 'immune', 'defic...\n",
       "Name: journal title, Length: 2127, dtype: object"
      ]
     },
     "execution_count": 10,
     "metadata": {},
     "output_type": "execute_result"
    }
   ],
   "source": [
    "APC_SPEND['journal title']"
   ]
  },
  {
   "cell_type": "markdown",
   "metadata": {},
   "source": [
    "#### The Top 5 Journals Are:\n",
    "\n",
    "- Plos One\n",
    "- Journal of Biological Chemistry\n",
    "- Neuroimage\n",
    "- Nucleic Acids Research\n",
    "- Plos Genetics"
   ]
  },
  {
   "cell_type": "markdown",
   "metadata": {},
   "source": [
    "#### The Mean, Median, and Standard Deviation of each of the Journals is Calulated below\n",
    "\n",
    "Keep in mind that I found 800 unique journals so you could always print out the entire list using:\n",
    "\n",
    "with pd.option_context('display.max_rows'): \n",
    "\n",
    "    print([avg | median | std])"
   ]
  },
  {
   "cell_type": "code",
   "execution_count": 11,
   "metadata": {},
   "outputs": [],
   "source": [
    "avg = APC_SPEND.groupby('journal title').cost.agg(np.mean)"
   ]
  },
  {
   "cell_type": "code",
   "execution_count": 12,
   "metadata": {},
   "outputs": [],
   "source": [
    "median = APC_SPEND.groupby('journal title').cost.agg(np.median)"
   ]
  },
  {
   "cell_type": "code",
   "execution_count": 13,
   "metadata": {},
   "outputs": [],
   "source": [
    "std = APC_SPEND.groupby('journal title').cost.agg(np.std)"
   ]
  },
  {
   "cell_type": "code",
   "execution_count": 14,
   "metadata": {},
   "outputs": [
    {
     "data": {
      "text/plain": [
       "journal title\n",
       "['academy', 'of', 'nutrition', 'and', 'dietetics']                                 2379.540039\n",
       "['acs', 'chemical', 'biology']                                                     1418.186035\n",
       "['acs', 'chemical', 'neuroscience']                                                1186.800049\n",
       "['acs', 'nano']                                                                     668.140015\n",
       "['acta', 'crystallographic', 'section', 'd', 'biological', 'crystallography']       772.579956\n",
       "                                                                                     ...      \n",
       "['virology']                                                                       1928.505005\n",
       "['virus', 'research']                                                              1947.089966\n",
       "['vision', 'research']                                                           500727.593750\n",
       "['visual', 'neuroscience']                                                         2034.000000\n",
       "['zoonoses', 'and', 'public', 'health']                                            2272.149902\n",
       "Name: cost, Length: 865, dtype: float32"
      ]
     },
     "execution_count": 14,
     "metadata": {},
     "output_type": "execute_result"
    }
   ],
   "source": [
    "avg"
   ]
  },
  {
   "cell_type": "code",
   "execution_count": 15,
   "metadata": {},
   "outputs": [
    {
     "data": {
      "text/plain": [
       "journal title\n",
       "['academy', 'of', 'nutrition', 'and', 'dietetics']                                 2379.540039\n",
       "['acs', 'chemical', 'biology']                                                     1294.589966\n",
       "['acs', 'chemical', 'neuroscience']                                                1186.800049\n",
       "['acs', 'nano']                                                                     668.140015\n",
       "['acta', 'crystallographic', 'section', 'd', 'biological', 'crystallography']       772.579956\n",
       "                                                                                     ...      \n",
       "['virology']                                                                       1928.505005\n",
       "['virus', 'research']                                                              1947.089966\n",
       "['vision', 'research']                                                           500727.593750\n",
       "['visual', 'neuroscience']                                                         2034.000000\n",
       "['zoonoses', 'and', 'public', 'health']                                            2272.149902\n",
       "Name: cost, Length: 865, dtype: float32"
      ]
     },
     "execution_count": 15,
     "metadata": {},
     "output_type": "execute_result"
    }
   ],
   "source": [
    "median"
   ]
  },
  {
   "cell_type": "code",
   "execution_count": 16,
   "metadata": {},
   "outputs": [
    {
     "data": {
      "text/plain": [
       "journal title\n",
       "['academy', 'of', 'nutrition', 'and', 'dietetics']                                         NaN\n",
       "['acs', 'chemical', 'biology']                                                      507.309540\n",
       "['acs', 'chemical', 'neuroscience']                                                        NaN\n",
       "['acs', 'nano']                                                                      35.708893\n",
       "['acta', 'crystallographic', 'section', 'd', 'biological', 'crystallography']         1.640493\n",
       "                                                                                     ...      \n",
       "['virology']                                                                        697.850708\n",
       "['virus', 'research']                                                                      NaN\n",
       "['vision', 'research']                                                           706076.375000\n",
       "['visual', 'neuroscience']                                                                 NaN\n",
       "['zoonoses', 'and', 'public', 'health']                                                    NaN\n",
       "Name: cost, Length: 865, dtype: float32"
      ]
     },
     "execution_count": 16,
     "metadata": {},
     "output_type": "execute_result"
    }
   ],
   "source": [
    "std"
   ]
  },
  {
   "cell_type": "code",
   "execution_count": null,
   "metadata": {},
   "outputs": [],
   "source": []
  }
 ],
 "metadata": {
  "kernelspec": {
   "display_name": "Python 3",
   "language": "python",
   "name": "python3"
  },
  "language_info": {
   "codemirror_mode": {
    "name": "ipython",
    "version": 3
   },
   "file_extension": ".py",
   "mimetype": "text/x-python",
   "name": "python",
   "nbconvert_exporter": "python",
   "pygments_lexer": "ipython3",
   "version": "3.7.4"
  }
 },
 "nbformat": 4,
 "nbformat_minor": 4
}
