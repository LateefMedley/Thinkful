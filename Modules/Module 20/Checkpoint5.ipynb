{
 "cells": [
  {
   "cell_type": "markdown",
   "metadata": {},
   "source": [
    "# Challenge: model comparison\n",
    "\n",
    "You now know two kinds of regression and two kinds of classifier. So let's use that to compare models!\n",
    "\n",
    "Comparing models is something data scientists do all the time. There's very rarely just one model that would be possible to run for a given situation, so learning to choose the best one is very important.\n",
    "\n",
    "Here let's work on regression. Find a data set and build a KNN Regression and an OLS regression. Compare the two. How similar are they? Do they miss in different ways?"
   ]
  },
  {
   "cell_type": "code",
   "execution_count": 1,
   "metadata": {},
   "outputs": [],
   "source": [
    "import numpy as np\n",
    "import pandas as pd\n",
    "import matplotlib.pyplot as plt\n",
    "import seaborn as sns\n",
    "from sklearn.linear_model import LinearRegression\n",
    "from statsmodels.tools.eval_measures import mse, rmse\n",
    "from sklearn.model_selection import train_test_split\n",
    "from sklearn.metrics import mean_absolute_error\n",
    "from sklearn.model_selection import cross_val_score\n",
    "from sklearn import neighbors\n",
    "import statsmodels.api as sm\n",
    "from sklearn.model_selection import train_test_split\n",
    "from sklearn.preprocessing import StandardScaler\n",
    "from sklearn.decomposition import PCA"
   ]
  },
  {
   "cell_type": "code",
   "execution_count": 2,
   "metadata": {},
   "outputs": [],
   "source": [
    "PATH = r'C:\\Users\\latee\\Downloads\\etsy-shops\\etsy_shops_data.csv'\n",
    "esty = pd.read_csv(PATH)"
   ]
  },
  {
   "cell_type": "code",
   "execution_count": 3,
   "metadata": {},
   "outputs": [],
   "source": [
    "# dataset column key\n",
    "esty_key = pd.DataFrame(['The date that the shop has been created in Etsy website.',\n",
    "                        'The number of active listing this shop has at the moment of capturing the data.',\n",
    "                        'Number of people who follow this shop.',\n",
    "                        \"The ISO currency code for the seller's native currency.\",\n",
    "                        'Is this shop USA based?',\n",
    "                        'Does this shop have a sale message (message send to buyer upon a purchase)?',\n",
    "                        'Number of sales that the shop has made.',\n",
    "                        'Number of reviews that the shop has gained',\n",
    "                        'The location of the site (country, city)'])\n",
    "esty_key.index = esty.columns.unique()"
   ]
  },
  {
   "cell_type": "code",
   "execution_count": 4,
   "metadata": {},
   "outputs": [
    {
     "data": {
      "text/html": [
       "<div>\n",
       "<style scoped>\n",
       "    .dataframe tbody tr th:only-of-type {\n",
       "        vertical-align: middle;\n",
       "    }\n",
       "\n",
       "    .dataframe tbody tr th {\n",
       "        vertical-align: top;\n",
       "    }\n",
       "\n",
       "    .dataframe thead th {\n",
       "        text-align: right;\n",
       "    }\n",
       "</style>\n",
       "<table border=\"1\" class=\"dataframe\">\n",
       "  <thead>\n",
       "    <tr style=\"text-align: right;\">\n",
       "      <th></th>\n",
       "      <th>0</th>\n",
       "    </tr>\n",
       "  </thead>\n",
       "  <tbody>\n",
       "    <tr>\n",
       "      <th>creation_date</th>\n",
       "      <td>The date that the shop has been created in Ets...</td>\n",
       "    </tr>\n",
       "    <tr>\n",
       "      <th>listing_active_count</th>\n",
       "      <td>The number of active listing this shop has at ...</td>\n",
       "    </tr>\n",
       "    <tr>\n",
       "      <th>num_favorers</th>\n",
       "      <td>Number of people who follow this shop.</td>\n",
       "    </tr>\n",
       "    <tr>\n",
       "      <th>currency_code</th>\n",
       "      <td>The ISO currency code for the seller's native ...</td>\n",
       "    </tr>\n",
       "    <tr>\n",
       "      <th>is_shop_us_based</th>\n",
       "      <td>Is this shop USA based?</td>\n",
       "    </tr>\n",
       "    <tr>\n",
       "      <th>sale_message</th>\n",
       "      <td>Does this shop have a sale message (message se...</td>\n",
       "    </tr>\n",
       "    <tr>\n",
       "      <th>sales_count</th>\n",
       "      <td>Number of sales that the shop has made.</td>\n",
       "    </tr>\n",
       "    <tr>\n",
       "      <th>review_count</th>\n",
       "      <td>Number of reviews that the shop has gained</td>\n",
       "    </tr>\n",
       "    <tr>\n",
       "      <th>shop_location</th>\n",
       "      <td>The location of the site (country, city)</td>\n",
       "    </tr>\n",
       "  </tbody>\n",
       "</table>\n",
       "</div>"
      ],
      "text/plain": [
       "                                                                      0\n",
       "creation_date         The date that the shop has been created in Ets...\n",
       "listing_active_count  The number of active listing this shop has at ...\n",
       "num_favorers                     Number of people who follow this shop.\n",
       "currency_code         The ISO currency code for the seller's native ...\n",
       "is_shop_us_based                                Is this shop USA based?\n",
       "sale_message          Does this shop have a sale message (message se...\n",
       "sales_count                     Number of sales that the shop has made.\n",
       "review_count                 Number of reviews that the shop has gained\n",
       "shop_location                  The location of the site (country, city)"
      ]
     },
     "execution_count": 4,
     "metadata": {},
     "output_type": "execute_result"
    }
   ],
   "source": [
    "esty_key"
   ]
  },
  {
   "cell_type": "markdown",
   "metadata": {},
   "source": [
    "### I am not interested in all of these features\n",
    "\n",
    "I am interested in:\n",
    "\n",
    "    * num_favorers\n",
    "    * sale_message\n",
    "    * review_count\n",
    "    * sales_count\n",
    "\n",
    "I am not interested in:\n",
    "\n",
    "    * creation date\n",
    "    * listing_active_count - bcuz the time of day that the data was collected may affect the values observed\n",
    "    * a non US based currency\n",
    "    * Non US shops\n",
    "    * Shop location\n",
    "    \n",
    "    \n",
    "Note: Each observation is a diferent shop."
   ]
  },
  {
   "cell_type": "code",
   "execution_count": 5,
   "metadata": {},
   "outputs": [
    {
     "data": {
      "text/html": [
       "<div>\n",
       "<style scoped>\n",
       "    .dataframe tbody tr th:only-of-type {\n",
       "        vertical-align: middle;\n",
       "    }\n",
       "\n",
       "    .dataframe tbody tr th {\n",
       "        vertical-align: top;\n",
       "    }\n",
       "\n",
       "    .dataframe thead th {\n",
       "        text-align: right;\n",
       "    }\n",
       "</style>\n",
       "<table border=\"1\" class=\"dataframe\">\n",
       "  <thead>\n",
       "    <tr style=\"text-align: right;\">\n",
       "      <th></th>\n",
       "      <th>creation_date</th>\n",
       "      <th>listing_active_count</th>\n",
       "      <th>num_favorers</th>\n",
       "      <th>currency_code</th>\n",
       "      <th>is_shop_us_based</th>\n",
       "      <th>sale_message</th>\n",
       "      <th>sales_count</th>\n",
       "      <th>review_count</th>\n",
       "      <th>shop_location</th>\n",
       "    </tr>\n",
       "  </thead>\n",
       "  <tbody>\n",
       "    <tr>\n",
       "      <th>0</th>\n",
       "      <td>19-Nov</td>\n",
       "      <td>3</td>\n",
       "      <td>1</td>\n",
       "      <td>USD</td>\n",
       "      <td>True</td>\n",
       "      <td>False</td>\n",
       "      <td>0</td>\n",
       "      <td>0</td>\n",
       "      <td>Kansas City, Missouri</td>\n",
       "    </tr>\n",
       "    <tr>\n",
       "      <th>1</th>\n",
       "      <td>19-Nov</td>\n",
       "      <td>13</td>\n",
       "      <td>1</td>\n",
       "      <td>AUD</td>\n",
       "      <td>False</td>\n",
       "      <td>False</td>\n",
       "      <td>2</td>\n",
       "      <td>0</td>\n",
       "      <td>None</td>\n",
       "    </tr>\n",
       "    <tr>\n",
       "      <th>2</th>\n",
       "      <td>19-Nov</td>\n",
       "      <td>0</td>\n",
       "      <td>0</td>\n",
       "      <td>USD</td>\n",
       "      <td>True</td>\n",
       "      <td>False</td>\n",
       "      <td>-99</td>\n",
       "      <td>-99</td>\n",
       "      <td>None</td>\n",
       "    </tr>\n",
       "    <tr>\n",
       "      <th>3</th>\n",
       "      <td>19-Nov</td>\n",
       "      <td>40</td>\n",
       "      <td>1</td>\n",
       "      <td>USD</td>\n",
       "      <td>False</td>\n",
       "      <td>False</td>\n",
       "      <td>0</td>\n",
       "      <td>0</td>\n",
       "      <td>Kharkiv, Ukraine</td>\n",
       "    </tr>\n",
       "    <tr>\n",
       "      <th>4</th>\n",
       "      <td>19-Nov</td>\n",
       "      <td>7</td>\n",
       "      <td>1</td>\n",
       "      <td>USD</td>\n",
       "      <td>True</td>\n",
       "      <td>False</td>\n",
       "      <td>0</td>\n",
       "      <td>0</td>\n",
       "      <td>New York, United States</td>\n",
       "    </tr>\n",
       "  </tbody>\n",
       "</table>\n",
       "</div>"
      ],
      "text/plain": [
       "  creation_date  listing_active_count  num_favorers currency_code  \\\n",
       "0        19-Nov                     3             1           USD   \n",
       "1        19-Nov                    13             1           AUD   \n",
       "2        19-Nov                     0             0           USD   \n",
       "3        19-Nov                    40             1           USD   \n",
       "4        19-Nov                     7             1           USD   \n",
       "\n",
       "   is_shop_us_based  sale_message  sales_count  review_count  \\\n",
       "0              True         False            0             0   \n",
       "1             False         False            2             0   \n",
       "2              True         False          -99           -99   \n",
       "3             False         False            0             0   \n",
       "4              True         False            0             0   \n",
       "\n",
       "             shop_location  \n",
       "0    Kansas City, Missouri  \n",
       "1                     None  \n",
       "2                     None  \n",
       "3         Kharkiv, Ukraine  \n",
       "4  New York, United States  "
      ]
     },
     "execution_count": 5,
     "metadata": {},
     "output_type": "execute_result"
    }
   ],
   "source": [
    "esty.head()"
   ]
  },
  {
   "cell_type": "code",
   "execution_count": 6,
   "metadata": {},
   "outputs": [],
   "source": [
    "esty1 = esty[esty.is_shop_us_based != False]"
   ]
  },
  {
   "cell_type": "code",
   "execution_count": 7,
   "metadata": {
    "scrolled": false
   },
   "outputs": [],
   "source": [
    "esty1 = esty.drop(['creation_date', 'currency_code', 'is_shop_us_based', 'shop_location'], axis=1)"
   ]
  },
  {
   "cell_type": "code",
   "execution_count": 8,
   "metadata": {},
   "outputs": [],
   "source": [
    "numeric_columns = esty1.select_dtypes(['int64', 'float64']).columns\n",
    "non_numeric_columns = esty1.select_dtypes(['object']).columns"
   ]
  },
  {
   "cell_type": "code",
   "execution_count": 9,
   "metadata": {},
   "outputs": [
    {
     "data": {
      "text/html": [
       "<div>\n",
       "<style scoped>\n",
       "    .dataframe tbody tr th:only-of-type {\n",
       "        vertical-align: middle;\n",
       "    }\n",
       "\n",
       "    .dataframe tbody tr th {\n",
       "        vertical-align: top;\n",
       "    }\n",
       "\n",
       "    .dataframe thead th {\n",
       "        text-align: right;\n",
       "    }\n",
       "</style>\n",
       "<table border=\"1\" class=\"dataframe\">\n",
       "  <thead>\n",
       "    <tr style=\"text-align: right;\">\n",
       "      <th></th>\n",
       "      <th>listing_active_count</th>\n",
       "      <th>num_favorers</th>\n",
       "      <th>sale_message</th>\n",
       "      <th>sales_count</th>\n",
       "      <th>review_count</th>\n",
       "    </tr>\n",
       "  </thead>\n",
       "  <tbody>\n",
       "    <tr>\n",
       "      <th>0</th>\n",
       "      <td>3</td>\n",
       "      <td>1</td>\n",
       "      <td>False</td>\n",
       "      <td>0</td>\n",
       "      <td>0</td>\n",
       "    </tr>\n",
       "    <tr>\n",
       "      <th>1</th>\n",
       "      <td>13</td>\n",
       "      <td>1</td>\n",
       "      <td>False</td>\n",
       "      <td>2</td>\n",
       "      <td>0</td>\n",
       "    </tr>\n",
       "    <tr>\n",
       "      <th>2</th>\n",
       "      <td>0</td>\n",
       "      <td>0</td>\n",
       "      <td>False</td>\n",
       "      <td>-99</td>\n",
       "      <td>-99</td>\n",
       "    </tr>\n",
       "    <tr>\n",
       "      <th>3</th>\n",
       "      <td>40</td>\n",
       "      <td>1</td>\n",
       "      <td>False</td>\n",
       "      <td>0</td>\n",
       "      <td>0</td>\n",
       "    </tr>\n",
       "    <tr>\n",
       "      <th>4</th>\n",
       "      <td>7</td>\n",
       "      <td>1</td>\n",
       "      <td>False</td>\n",
       "      <td>0</td>\n",
       "      <td>0</td>\n",
       "    </tr>\n",
       "  </tbody>\n",
       "</table>\n",
       "</div>"
      ],
      "text/plain": [
       "   listing_active_count  num_favorers  sale_message  sales_count  review_count\n",
       "0                     3             1         False            0             0\n",
       "1                    13             1         False            2             0\n",
       "2                     0             0         False          -99           -99\n",
       "3                    40             1         False            0             0\n",
       "4                     7             1         False            0             0"
      ]
     },
     "execution_count": 9,
     "metadata": {},
     "output_type": "execute_result"
    }
   ],
   "source": [
    "esty1.head()"
   ]
  },
  {
   "cell_type": "code",
   "execution_count": 10,
   "metadata": {
    "scrolled": false
   },
   "outputs": [
    {
     "data": {
      "image/png": "[encoded data removed]",
      "text/plain": [
       "<Figure size 1296x1800 with 4 Axes>"
      ]
     },
     "metadata": {
      "needs_background": "light"
     },
     "output_type": "display_data"
    }
   ],
   "source": [
    "plt.figure(figsize=(18, 25))\n",
    "plt.subplots_adjust(hspace=1, wspace=1)\n",
    "for i, col in enumerate(numeric_columns):\n",
    "    plt.subplot(len(numeric_columns), 2, i+1)\n",
    "    plt.boxplot(x=col, data=esty1, whis=1.5)\n",
    "    plt.title(col)\n",
    "    \n",
    "plt.tight_layout()"
   ]
  },
  {
   "cell_type": "markdown",
   "metadata": {},
   "source": [
    "I cannot rationalized why or how a negative number of reviews was recorded, but I will drop them. "
   ]
  },
  {
   "cell_type": "code",
   "execution_count": 11,
   "metadata": {},
   "outputs": [],
   "source": [
    "esty1.loc[esty1.review_count < 1, 'review_count'] = 0"
   ]
  },
  {
   "cell_type": "markdown",
   "metadata": {},
   "source": [
    "### It appears negative values are possible with etsy, due to their billing system. \n",
    "\n",
    "I found this online.\n",
    "\n",
    "When you sell on Etsy, you'll incur fees for using Etsy.com. If you make any sales through Etsy Payments, your fees will automatically be deducted. If your current balance is negative at the end of the month, you'll have an amount due on the first on the next month."
   ]
  },
  {
   "cell_type": "markdown",
   "metadata": {},
   "source": [
    "It's abundantly clear that all of our distributions are skewed to the right. "
   ]
  },
  {
   "cell_type": "markdown",
   "metadata": {},
   "source": [
    "My assumption is that some of the shops are far more popular than the rest. I need to limit their affects on the data to avoid problems later, winsorization should help a bit. "
   ]
  },
  {
   "cell_type": "code",
   "execution_count": 12,
   "metadata": {},
   "outputs": [],
   "source": [
    "from scipy.stats.mstats import winsorize\n",
    "\n",
    "esty_win = esty1.copy()\n",
    "\n",
    "for col in esty_win.columns:\n",
    "    esty_win[col] = winsorize(esty_win[col], (.0, .001))"
   ]
  },
  {
   "cell_type": "code",
   "execution_count": 13,
   "metadata": {
    "scrolled": false
   },
   "outputs": [
    {
     "data": {
      "image/png": "[encoded data removed]",
      "text/plain": [
       "<Figure size 1296x1800 with 4 Axes>"
      ]
     },
     "metadata": {
      "needs_background": "light"
     },
     "output_type": "display_data"
    }
   ],
   "source": [
    "plt.figure(figsize=(18, 25))\n",
    "plt.subplots_adjust(hspace=1, wspace=1)\n",
    "for i, col in enumerate(numeric_columns):\n",
    "    plt.subplot(len(numeric_columns), 2, i+1)\n",
    "    plt.boxplot(x=col, data=esty_win, whis=1.5)\n",
    "    plt.title(col)\n",
    "    \n",
    "plt.tight_layout()"
   ]
  },
  {
   "cell_type": "code",
   "execution_count": 14,
   "metadata": {},
   "outputs": [
    {
     "data": {
      "text/html": [
       "<div>\n",
       "<style scoped>\n",
       "    .dataframe tbody tr th:only-of-type {\n",
       "        vertical-align: middle;\n",
       "    }\n",
       "\n",
       "    .dataframe tbody tr th {\n",
       "        vertical-align: top;\n",
       "    }\n",
       "\n",
       "    .dataframe thead th {\n",
       "        text-align: right;\n",
       "    }\n",
       "</style>\n",
       "<table border=\"1\" class=\"dataframe\">\n",
       "  <thead>\n",
       "    <tr style=\"text-align: right;\">\n",
       "      <th></th>\n",
       "      <th>listing_active_count</th>\n",
       "      <th>num_favorers</th>\n",
       "      <th>sale_message</th>\n",
       "      <th>sales_count</th>\n",
       "      <th>review_count</th>\n",
       "    </tr>\n",
       "  </thead>\n",
       "  <tbody>\n",
       "    <tr>\n",
       "      <th>0</th>\n",
       "      <td>3</td>\n",
       "      <td>1</td>\n",
       "      <td>False</td>\n",
       "      <td>0</td>\n",
       "      <td>0</td>\n",
       "    </tr>\n",
       "    <tr>\n",
       "      <th>1</th>\n",
       "      <td>13</td>\n",
       "      <td>1</td>\n",
       "      <td>False</td>\n",
       "      <td>2</td>\n",
       "      <td>0</td>\n",
       "    </tr>\n",
       "    <tr>\n",
       "      <th>2</th>\n",
       "      <td>0</td>\n",
       "      <td>0</td>\n",
       "      <td>False</td>\n",
       "      <td>-99</td>\n",
       "      <td>0</td>\n",
       "    </tr>\n",
       "    <tr>\n",
       "      <th>3</th>\n",
       "      <td>40</td>\n",
       "      <td>1</td>\n",
       "      <td>False</td>\n",
       "      <td>0</td>\n",
       "      <td>0</td>\n",
       "    </tr>\n",
       "    <tr>\n",
       "      <th>4</th>\n",
       "      <td>7</td>\n",
       "      <td>1</td>\n",
       "      <td>False</td>\n",
       "      <td>0</td>\n",
       "      <td>0</td>\n",
       "    </tr>\n",
       "  </tbody>\n",
       "</table>\n",
       "</div>"
      ],
      "text/plain": [
       "   listing_active_count  num_favorers  sale_message  sales_count  review_count\n",
       "0                     3             1         False            0             0\n",
       "1                    13             1         False            2             0\n",
       "2                     0             0         False          -99             0\n",
       "3                    40             1         False            0             0\n",
       "4                     7             1         False            0             0"
      ]
     },
     "execution_count": 14,
     "metadata": {},
     "output_type": "execute_result"
    }
   ],
   "source": [
    "esty_win.head()"
   ]
  },
  {
   "cell_type": "markdown",
   "metadata": {},
   "source": [
    "This is the best I could do without losing too much information.  "
   ]
  },
  {
   "cell_type": "code",
   "execution_count": 15,
   "metadata": {
    "scrolled": false
   },
   "outputs": [
    {
     "data": {
      "text/plain": [
       "<matplotlib.axes._subplots.AxesSubplot at 0x1b5b1d121d0>"
      ]
     },
     "execution_count": 15,
     "metadata": {},
     "output_type": "execute_result"
    },
    {
     "data": {
      "image/png": "[encoded data removed]",
      "text/plain": [
       "<Figure size 432x288 with 2 Axes>"
      ]
     },
     "metadata": {
      "needs_background": "light"
     },
     "output_type": "display_data"
    }
   ],
   "source": [
    "sns.heatmap(esty_win.corr(), cmap='jet')"
   ]
  },
  {
   "cell_type": "markdown",
   "metadata": {},
   "source": [
    "### Preprocessing"
   ]
  },
  {
   "cell_type": "code",
   "execution_count": 16,
   "metadata": {},
   "outputs": [],
   "source": [
    "esty_win['sale_message'] = esty_win['sale_message'].astype(int)"
   ]
  },
  {
   "cell_type": "code",
   "execution_count": 17,
   "metadata": {},
   "outputs": [
    {
     "data": {
      "text/html": [
       "<div>\n",
       "<style scoped>\n",
       "    .dataframe tbody tr th:only-of-type {\n",
       "        vertical-align: middle;\n",
       "    }\n",
       "\n",
       "    .dataframe tbody tr th {\n",
       "        vertical-align: top;\n",
       "    }\n",
       "\n",
       "    .dataframe thead th {\n",
       "        text-align: right;\n",
       "    }\n",
       "</style>\n",
       "<table border=\"1\" class=\"dataframe\">\n",
       "  <thead>\n",
       "    <tr style=\"text-align: right;\">\n",
       "      <th></th>\n",
       "      <th>listing_active_count</th>\n",
       "      <th>num_favorers</th>\n",
       "      <th>sale_message</th>\n",
       "      <th>sales_count</th>\n",
       "      <th>review_count</th>\n",
       "    </tr>\n",
       "  </thead>\n",
       "  <tbody>\n",
       "    <tr>\n",
       "      <th>19995</th>\n",
       "      <td>3</td>\n",
       "      <td>2</td>\n",
       "      <td>0</td>\n",
       "      <td>0</td>\n",
       "      <td>0</td>\n",
       "    </tr>\n",
       "    <tr>\n",
       "      <th>19996</th>\n",
       "      <td>1</td>\n",
       "      <td>0</td>\n",
       "      <td>0</td>\n",
       "      <td>0</td>\n",
       "      <td>0</td>\n",
       "    </tr>\n",
       "    <tr>\n",
       "      <th>19997</th>\n",
       "      <td>1</td>\n",
       "      <td>0</td>\n",
       "      <td>0</td>\n",
       "      <td>0</td>\n",
       "      <td>0</td>\n",
       "    </tr>\n",
       "    <tr>\n",
       "      <th>19998</th>\n",
       "      <td>1</td>\n",
       "      <td>0</td>\n",
       "      <td>0</td>\n",
       "      <td>0</td>\n",
       "      <td>0</td>\n",
       "    </tr>\n",
       "    <tr>\n",
       "      <th>19999</th>\n",
       "      <td>1</td>\n",
       "      <td>0</td>\n",
       "      <td>0</td>\n",
       "      <td>1</td>\n",
       "      <td>0</td>\n",
       "    </tr>\n",
       "  </tbody>\n",
       "</table>\n",
       "</div>"
      ],
      "text/plain": [
       "       listing_active_count  num_favorers  sale_message  sales_count  \\\n",
       "19995                     3             2             0            0   \n",
       "19996                     1             0             0            0   \n",
       "19997                     1             0             0            0   \n",
       "19998                     1             0             0            0   \n",
       "19999                     1             0             0            1   \n",
       "\n",
       "       review_count  \n",
       "19995             0  \n",
       "19996             0  \n",
       "19997             0  \n",
       "19998             0  \n",
       "19999             0  "
      ]
     },
     "execution_count": 17,
     "metadata": {},
     "output_type": "execute_result"
    }
   ],
   "source": [
    "esty_win.tail()"
   ]
  },
  {
   "cell_type": "markdown",
   "metadata": {},
   "source": [
    "### Modeling"
   ]
  },
  {
   "cell_type": "code",
   "execution_count": 18,
   "metadata": {},
   "outputs": [],
   "source": [
    "# Dataframe to hold errors\n",
    "err_chart = pd.DataFrame(index=['R-squared of training', 'R-squared of test',\n",
    "                                'Mean absolute error', 'Mean squared error', 'Root mean squared error',\n",
    "                                'Mean absolute percentage error'])"
   ]
  },
  {
   "cell_type": "code",
   "execution_count": 19,
   "metadata": {},
   "outputs": [
    {
     "name": "stdout",
     "output_type": "stream",
     "text": [
      "Optimal Components:  2\n"
     ]
    },
    {
     "name": "stderr",
     "output_type": "stream",
     "text": [
      "C:\\Users\\latee\\Anaconda3\\lib\\site-packages\\sklearn\\preprocessing\\data.py:645: DataConversionWarning: Data with input dtype int64 were all converted to float64 by StandardScaler.\n",
      "  return self.partial_fit(X, y)\n",
      "C:\\Users\\latee\\Anaconda3\\lib\\site-packages\\ipykernel_launcher.py:15: DataConversionWarning: Data with input dtype int64 were all converted to float64 by StandardScaler.\n",
      "  from ipykernel import kernelapp as app\n",
      "C:\\Users\\latee\\Anaconda3\\lib\\site-packages\\ipykernel_launcher.py:16: DataConversionWarning: Data with input dtype int64 were all converted to float64 by StandardScaler.\n",
      "  app.launch_new_instance()\n"
     ]
    }
   ],
   "source": [
    "# selecting the \"data\" and \"target\"\n",
    "X = esty_win[['listing_active_count', 'num_favorers', 'review_count']]\n",
    "y = esty_win[['sales_count']]\n",
    "\n",
    "#train test split\n",
    "X_train, X_test, y_train, y_test = train_test_split(X, y, test_size=.2, random_state=40)\n",
    "\n",
    "# scalar obj\n",
    "scaler = StandardScaler()\n",
    "\n",
    "# Fitting on training\n",
    "scaler.fit(X_train)\n",
    "\n",
    "# Apply transform to both the training \n",
    "X_train = scaler.transform(X_train)\n",
    "X_test = scaler.transform(X_test)\n",
    "\n",
    "# create an instance for the pca (feature reduction algorithm)\n",
    "pca = PCA(.73)\n",
    "\n",
    "# you are fitting PCA on the training set only\n",
    "pca.fit(X_train)\n",
    "print('Optimal Components: ', pca.n_components_)"
   ]
  },
  {
   "cell_type": "code",
   "execution_count": 20,
   "metadata": {},
   "outputs": [],
   "source": [
    "# Apply the mapping (transform) to both the training set and the test set.\n",
    "X_train = pca.transform(X_train)\n",
    "X_test = pca.transform(X_test)\n",
    "\n",
    "# create model instance\n",
    "lrm = LinearRegression()\n",
    "\n",
    "# adding constant and fitting\n",
    "X_train = sm.add_constant(X_train)\n",
    "\n",
    "# fit the model to the training data (learning coefficients)\n",
    "lrm.fit(X_train, y_train)\n",
    "\n",
    "# Adding a constant Best Practice!\n",
    "X_test = sm.add_constant(X_test)\n",
    "\n",
    "# Making predictions here\n",
    "y_preds_train = lrm.predict(X_train)\n",
    "y_preds_test = lrm.predict(X_test)\n",
    "\n",
    "err_chart['OLS'] = list([lrm.score(X_train, y_train), lrm.score(X_test, y_test),\n",
    "                          mean_absolute_error(y_test, y_preds_test),\n",
    "                          mse(y_test, y_preds_test), rmse(y_test, y_preds_test),\n",
    "                          np.mean(np.abs((y_test - y_preds_test) / y_test) * 100)])"
   ]
  },
  {
   "cell_type": "code",
   "execution_count": 21,
   "metadata": {},
   "outputs": [
    {
     "data": {
      "text/html": [
       "<div>\n",
       "<style scoped>\n",
       "    .dataframe tbody tr th:only-of-type {\n",
       "        vertical-align: middle;\n",
       "    }\n",
       "\n",
       "    .dataframe tbody tr th {\n",
       "        vertical-align: top;\n",
       "    }\n",
       "\n",
       "    .dataframe thead th {\n",
       "        text-align: right;\n",
       "    }\n",
       "</style>\n",
       "<table border=\"1\" class=\"dataframe\">\n",
       "  <thead>\n",
       "    <tr style=\"text-align: right;\">\n",
       "      <th></th>\n",
       "      <th>OLS</th>\n",
       "    </tr>\n",
       "  </thead>\n",
       "  <tbody>\n",
       "    <tr>\n",
       "      <th>R-squared of training</th>\n",
       "      <td>0.0825367</td>\n",
       "    </tr>\n",
       "    <tr>\n",
       "      <th>R-squared of test</th>\n",
       "      <td>0.0813123</td>\n",
       "    </tr>\n",
       "    <tr>\n",
       "      <th>Mean absolute error</th>\n",
       "      <td>14.9664</td>\n",
       "    </tr>\n",
       "    <tr>\n",
       "      <th>Mean squared error</th>\n",
       "      <td>[752.0639034823676]</td>\n",
       "    </tr>\n",
       "    <tr>\n",
       "      <th>Root mean squared error</th>\n",
       "      <td>[27.423783536966003]</td>\n",
       "    </tr>\n",
       "    <tr>\n",
       "      <th>Mean absolute percentage error</th>\n",
       "      <td>sales_count    inf\n",
       "dtype: float64</td>\n",
       "    </tr>\n",
       "  </tbody>\n",
       "</table>\n",
       "</div>"
      ],
      "text/plain": [
       "                                                              OLS\n",
       "R-squared of training                                   0.0825367\n",
       "R-squared of test                                       0.0813123\n",
       "Mean absolute error                                       14.9664\n",
       "Mean squared error                            [752.0639034823676]\n",
       "Root mean squared error                      [27.423783536966003]\n",
       "Mean absolute percentage error  sales_count    inf\n",
       "dtype: float64"
      ]
     },
     "execution_count": 21,
     "metadata": {},
     "output_type": "execute_result"
    }
   ],
   "source": [
    "err_chart"
   ]
  },
  {
   "cell_type": "code",
   "execution_count": 22,
   "metadata": {},
   "outputs": [
    {
     "name": "stdout",
     "output_type": "stream",
     "text": [
      "Unweighted Accuracy: 0.08 (+/- 0.06)\n"
     ]
    }
   ],
   "source": [
    "score = cross_val_score(lrm, X, y, cv=5)\n",
    "print(\"Unweighted Accuracy: %0.2f (+/- %0.2f)\" % (score.mean(), score.std() * 2))"
   ]
  },
  {
   "cell_type": "code",
   "execution_count": 23,
   "metadata": {},
   "outputs": [
    {
     "data": {
      "text/html": [
       "<div>\n",
       "<style scoped>\n",
       "    .dataframe tbody tr th:only-of-type {\n",
       "        vertical-align: middle;\n",
       "    }\n",
       "\n",
       "    .dataframe tbody tr th {\n",
       "        vertical-align: top;\n",
       "    }\n",
       "\n",
       "    .dataframe thead th {\n",
       "        text-align: right;\n",
       "    }\n",
       "</style>\n",
       "<table border=\"1\" class=\"dataframe\">\n",
       "  <thead>\n",
       "    <tr style=\"text-align: right;\">\n",
       "      <th></th>\n",
       "      <th>listing_active_count</th>\n",
       "      <th>num_favorers</th>\n",
       "      <th>is_shop_us_based</th>\n",
       "      <th>sale_message</th>\n",
       "      <th>sales_count</th>\n",
       "      <th>review_count</th>\n",
       "    </tr>\n",
       "  </thead>\n",
       "  <tbody>\n",
       "    <tr>\n",
       "      <th>listing_active_count</th>\n",
       "      <td>1.000000</td>\n",
       "      <td>0.128962</td>\n",
       "      <td>-0.027260</td>\n",
       "      <td>0.088884</td>\n",
       "      <td>0.129562</td>\n",
       "      <td>0.088258</td>\n",
       "    </tr>\n",
       "    <tr>\n",
       "      <th>num_favorers</th>\n",
       "      <td>0.128962</td>\n",
       "      <td>1.000000</td>\n",
       "      <td>0.056522</td>\n",
       "      <td>0.108650</td>\n",
       "      <td>0.208715</td>\n",
       "      <td>0.042248</td>\n",
       "    </tr>\n",
       "    <tr>\n",
       "      <th>is_shop_us_based</th>\n",
       "      <td>-0.027260</td>\n",
       "      <td>0.056522</td>\n",
       "      <td>1.000000</td>\n",
       "      <td>0.031283</td>\n",
       "      <td>-0.041897</td>\n",
       "      <td>-0.073684</td>\n",
       "    </tr>\n",
       "    <tr>\n",
       "      <th>sale_message</th>\n",
       "      <td>0.088884</td>\n",
       "      <td>0.108650</td>\n",
       "      <td>0.031283</td>\n",
       "      <td>1.000000</td>\n",
       "      <td>0.046958</td>\n",
       "      <td>0.040816</td>\n",
       "    </tr>\n",
       "    <tr>\n",
       "      <th>sales_count</th>\n",
       "      <td>0.129562</td>\n",
       "      <td>0.208715</td>\n",
       "      <td>-0.041897</td>\n",
       "      <td>0.046958</td>\n",
       "      <td>1.000000</td>\n",
       "      <td>0.720403</td>\n",
       "    </tr>\n",
       "    <tr>\n",
       "      <th>review_count</th>\n",
       "      <td>0.088258</td>\n",
       "      <td>0.042248</td>\n",
       "      <td>-0.073684</td>\n",
       "      <td>0.040816</td>\n",
       "      <td>0.720403</td>\n",
       "      <td>1.000000</td>\n",
       "    </tr>\n",
       "  </tbody>\n",
       "</table>\n",
       "</div>"
      ],
      "text/plain": [
       "                      listing_active_count  num_favorers  is_shop_us_based  \\\n",
       "listing_active_count              1.000000      0.128962         -0.027260   \n",
       "num_favorers                      0.128962      1.000000          0.056522   \n",
       "is_shop_us_based                 -0.027260      0.056522          1.000000   \n",
       "sale_message                      0.088884      0.108650          0.031283   \n",
       "sales_count                       0.129562      0.208715         -0.041897   \n",
       "review_count                      0.088258      0.042248         -0.073684   \n",
       "\n",
       "                      sale_message  sales_count  review_count  \n",
       "listing_active_count      0.088884     0.129562      0.088258  \n",
       "num_favorers              0.108650     0.208715      0.042248  \n",
       "is_shop_us_based          0.031283    -0.041897     -0.073684  \n",
       "sale_message              1.000000     0.046958      0.040816  \n",
       "sales_count               0.046958     1.000000      0.720403  \n",
       "review_count              0.040816     0.720403      1.000000  "
      ]
     },
     "execution_count": 23,
     "metadata": {},
     "output_type": "execute_result"
    }
   ],
   "source": [
    "esty.corr()"
   ]
  },
  {
   "cell_type": "markdown",
   "metadata": {},
   "source": [
    "This performed terribly, it's not overfitting - it's just bad. Our features do not appear to explain much about our target, but for the sake of the exercise let's see which one performs better. "
   ]
  },
  {
   "cell_type": "markdown",
   "metadata": {},
   "source": [
    "# KNN"
   ]
  },
  {
   "cell_type": "code",
   "execution_count": 24,
   "metadata": {},
   "outputs": [
    {
     "name": "stderr",
     "output_type": "stream",
     "text": [
      "C:\\Users\\latee\\Anaconda3\\lib\\site-packages\\sklearn\\preprocessing\\data.py:645: DataConversionWarning: Data with input dtype int64 were all converted to float64 by StandardScaler.\n",
      "  return self.partial_fit(X, y)\n"
     ]
    },
    {
     "name": "stdout",
     "output_type": "stream",
     "text": [
      "Optimal Components:  3\n"
     ]
    },
    {
     "name": "stderr",
     "output_type": "stream",
     "text": [
      "C:\\Users\\latee\\Anaconda3\\lib\\site-packages\\ipykernel_launcher.py:15: DataConversionWarning: Data with input dtype int64 were all converted to float64 by StandardScaler.\n",
      "  from ipykernel import kernelapp as app\n",
      "C:\\Users\\latee\\Anaconda3\\lib\\site-packages\\ipykernel_launcher.py:16: DataConversionWarning: Data with input dtype int64 were all converted to float64 by StandardScaler.\n",
      "  app.launch_new_instance()\n"
     ]
    }
   ],
   "source": [
    "# selecting the \"data\" and \"target\"\n",
    "X = esty_win[['listing_active_count', 'num_favorers', 'review_count']]\n",
    "y = esty_win[['sales_count']]\n",
    "\n",
    "#train test split\n",
    "X_train, X_test, y_train, y_test = train_test_split(X, y, test_size=.2, random_state=40)\n",
    "\n",
    "# scalar obj\n",
    "scaler = StandardScaler()\n",
    "\n",
    "# Fitting on training\n",
    "scaler.fit(X_train)\n",
    "\n",
    "# Apply transform to both the training \n",
    "X_train = scaler.transform(X_train)\n",
    "X_test = scaler.transform(X_test)\n",
    "\n",
    "# create an instance for the pca (feature reduction algorithm)\n",
    "pca = PCA(.88)\n",
    "\n",
    "# you are fitting PCA on the training set only\n",
    "pca.fit(X_train)\n",
    "print('Optimal Components: ', pca.n_components_)"
   ]
  },
  {
   "cell_type": "code",
   "execution_count": 25,
   "metadata": {},
   "outputs": [],
   "source": [
    "# Apply the mapping (transform) to both the training set and the test set.\n",
    "X_train = pca.transform(X_train)\n",
    "X_test = pca.transform(X_test)\n",
    "\n",
    "# create model instance\n",
    "knn = neighbors.KNeighborsRegressor(n_neighbors=10)\n",
    "\n",
    "# adding constant and fitting\n",
    "X_train = sm.add_constant(X_train)\n",
    "\n",
    "# fit the model to the training data (learning coefficients)\n",
    "knn.fit(X_train, y_train)\n",
    "\n",
    "# Adding a constant Best Practice!\n",
    "X_test = sm.add_constant(X_test)\n",
    "\n",
    "# Making predictions here\n",
    "y_preds_train = knn.predict(X_train)\n",
    "y_preds_test = knn.predict(X_test)\n",
    "\n",
    "err_chart['KNN'] = list([knn.score(X_train, y_train), knn.score(X_test, y_test),\n",
    "                          mean_absolute_error(y_test, y_preds_test),\n",
    "                          mse(y_test, y_preds_test), rmse(y_test, y_preds_test),\n",
    "                          np.mean(np.abs((y_test - y_preds_test) / y_test) * 100)])"
   ]
  },
  {
   "cell_type": "code",
   "execution_count": 26,
   "metadata": {},
   "outputs": [
    {
     "data": {
      "text/html": [
       "<div>\n",
       "<style scoped>\n",
       "    .dataframe tbody tr th:only-of-type {\n",
       "        vertical-align: middle;\n",
       "    }\n",
       "\n",
       "    .dataframe tbody tr th {\n",
       "        vertical-align: top;\n",
       "    }\n",
       "\n",
       "    .dataframe thead th {\n",
       "        text-align: right;\n",
       "    }\n",
       "</style>\n",
       "<table border=\"1\" class=\"dataframe\">\n",
       "  <thead>\n",
       "    <tr style=\"text-align: right;\">\n",
       "      <th></th>\n",
       "      <th>OLS</th>\n",
       "      <th>KNN</th>\n",
       "    </tr>\n",
       "  </thead>\n",
       "  <tbody>\n",
       "    <tr>\n",
       "      <th>R-squared of training</th>\n",
       "      <td>0.0825367</td>\n",
       "      <td>0.487243</td>\n",
       "    </tr>\n",
       "    <tr>\n",
       "      <th>R-squared of test</th>\n",
       "      <td>0.0813123</td>\n",
       "      <td>0.498731</td>\n",
       "    </tr>\n",
       "    <tr>\n",
       "      <th>Mean absolute error</th>\n",
       "      <td>14.9664</td>\n",
       "      <td>8.6331</td>\n",
       "    </tr>\n",
       "    <tr>\n",
       "      <th>Mean squared error</th>\n",
       "      <td>[752.0639034823676]</td>\n",
       "      <td>[410.35271]</td>\n",
       "    </tr>\n",
       "    <tr>\n",
       "      <th>Root mean squared error</th>\n",
       "      <td>[27.423783536966003]</td>\n",
       "      <td>[20.257164411634715]</td>\n",
       "    </tr>\n",
       "    <tr>\n",
       "      <th>Mean absolute percentage error</th>\n",
       "      <td>sales_count    inf\n",
       "dtype: float64</td>\n",
       "      <td>sales_count    inf\n",
       "dtype: float64</td>\n",
       "    </tr>\n",
       "  </tbody>\n",
       "</table>\n",
       "</div>"
      ],
      "text/plain": [
       "                                                              OLS  \\\n",
       "R-squared of training                                   0.0825367   \n",
       "R-squared of test                                       0.0813123   \n",
       "Mean absolute error                                       14.9664   \n",
       "Mean squared error                            [752.0639034823676]   \n",
       "Root mean squared error                      [27.423783536966003]   \n",
       "Mean absolute percentage error  sales_count    inf\n",
       "dtype: float64   \n",
       "\n",
       "                                                              KNN  \n",
       "R-squared of training                                    0.487243  \n",
       "R-squared of test                                        0.498731  \n",
       "Mean absolute error                                        8.6331  \n",
       "Mean squared error                                    [410.35271]  \n",
       "Root mean squared error                      [20.257164411634715]  \n",
       "Mean absolute percentage error  sales_count    inf\n",
       "dtype: float64  "
      ]
     },
     "execution_count": 26,
     "metadata": {},
     "output_type": "execute_result"
    }
   ],
   "source": [
    "err_chart"
   ]
  },
  {
   "cell_type": "code",
   "execution_count": 27,
   "metadata": {},
   "outputs": [
    {
     "name": "stdout",
     "output_type": "stream",
     "text": [
      "Unweighted Accuracy: 0.44 (+/- 0.08)\n"
     ]
    }
   ],
   "source": [
    "score = cross_val_score(knn, X, y, cv=5)\n",
    "print(\"Unweighted Accuracy: %0.2f (+/- %0.2f)\" % (score.mean(), score.std() * 2))"
   ]
  },
  {
   "cell_type": "markdown",
   "metadata": {},
   "source": [
    "Neither one of these models did a good job of predicting our target. The KNN regression model performed better, but still not good. Both do a terrible job of making predictions, but it appears that the problem isn't with the models choosen, but data used. It presents a lot of problems like low feature to target correlation and outliers.  "
   ]
  },
  {
   "cell_type": "code",
   "execution_count": null,
   "metadata": {},
   "outputs": [],
   "source": []
  }
 ],
 "metadata": {
  "kernelspec": {
   "display_name": "Python 3",
   "language": "python",
   "name": "python3"
  },
  "language_info": {
   "codemirror_mode": {
    "name": "ipython",
    "version": 3
   },
   "file_extension": ".py",
   "mimetype": "text/x-python",
   "name": "python",
   "nbconvert_exporter": "python",
   "pygments_lexer": "ipython3",
   "version": "3.7.3"
  }
 },
 "nbformat": 4,
 "nbformat_minor": 2
}
