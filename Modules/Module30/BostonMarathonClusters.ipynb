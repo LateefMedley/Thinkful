{
 "cells": [
  {
   "cell_type": "markdown",
   "metadata": {},
   "source": [
    "# Challenge: The Boston marathon\n",
    "\n",
    "You now have a pretty varied suite of clustering and clustering evaluation methods; we'd be remiss if we didn't give you the opportunity to try them out on some real data. So here we go!\n",
    "\n",
    "There is a lot of information on runners and their performance for the Boston Marathon. Pick a year (post-2012 has more info) and do some clustering.\n",
    "\n",
    "My goal here was to learn something about these runners comparatively. "
   ]
  },
  {
   "cell_type": "code",
   "execution_count": 1,
   "metadata": {},
   "outputs": [],
   "source": [
    "import numpy as np\n",
    "import pandas as pd\n",
    "import scipy\n",
    "import matplotlib.pyplot as plt\n",
    "import seaborn as sns\n",
    "%matplotlib inline\n",
    "from sklearn.model_selection import train_test_split\n",
    "from sklearn.cluster import MeanShift, estimate_bandwidth\n",
    "from sklearn.cluster import KMeans\n",
    "from sklearn.preprocessing import normalize\n",
    "from sklearn.decomposition import PCA\n",
    "from sklearn.cluster import MiniBatchKMeans\n",
    "from sklearn.cluster import SpectralClustering\n",
    "from sklearn.cluster import AffinityPropagation\n",
    "from sklearn.metrics import pairwise_distances\n",
    "from sklearn import metrics\n",
    "from itertools import cycle"
   ]
  },
  {
   "cell_type": "code",
   "execution_count": 2,
   "metadata": {},
   "outputs": [],
   "source": [
    "url = r'https://raw.githubusercontent.com/llimllib/bostonmarathon/master/results/2014/results.csv'\n",
    "data = pd.read_csv(url)"
   ]
  },
  {
   "cell_type": "code",
   "execution_count": 3,
   "metadata": {},
   "outputs": [],
   "source": [
    "# making all column names lowercase\n",
    "data.columns = map(str.lower, data.columns)\n",
    "non_numeric_columns = data.select_dtypes(['object']).columns\n",
    "numeric_columns = data.select_dtypes(['int64', 'float64']).columns"
   ]
  },
  {
   "cell_type": "code",
   "execution_count": 4,
   "metadata": {},
   "outputs": [
    {
     "data": {
      "text/html": [
       "<div>\n",
       "<style scoped>\n",
       "    .dataframe tbody tr th:only-of-type {\n",
       "        vertical-align: middle;\n",
       "    }\n",
       "\n",
       "    .dataframe tbody tr th {\n",
       "        vertical-align: top;\n",
       "    }\n",
       "\n",
       "    .dataframe thead th {\n",
       "        text-align: right;\n",
       "    }\n",
       "</style>\n",
       "<table border=\"1\" class=\"dataframe\">\n",
       "  <thead>\n",
       "    <tr style=\"text-align: right;\">\n",
       "      <th></th>\n",
       "      <th>Total</th>\n",
       "      <th>Percent</th>\n",
       "    </tr>\n",
       "  </thead>\n",
       "  <tbody>\n",
       "    <tr>\n",
       "      <td>ctz</td>\n",
       "      <td>30740</td>\n",
       "      <td>0.961106</td>\n",
       "    </tr>\n",
       "    <tr>\n",
       "      <td>state</td>\n",
       "      <td>2576</td>\n",
       "      <td>0.080540</td>\n",
       "    </tr>\n",
       "    <tr>\n",
       "      <td>city</td>\n",
       "      <td>1</td>\n",
       "      <td>0.000031</td>\n",
       "    </tr>\n",
       "  </tbody>\n",
       "</table>\n",
       "</div>"
      ],
      "text/plain": [
       "       Total   Percent\n",
       "ctz    30740  0.961106\n",
       "state   2576  0.080540\n",
       "city       1  0.000031"
      ]
     },
     "execution_count": 4,
     "metadata": {},
     "output_type": "execute_result"
    }
   ],
   "source": [
    "total_missing = data.isnull().sum().sort_values(ascending=False)\n",
    "percent_missing = (data.isnull().sum()/data.isnull().count()).sort_values(ascending=False)\n",
    "missing_data = pd.concat([total_missing, percent_missing], axis=1, keys=['Total', 'Percent'])\n",
    "missing_data.head(3)"
   ]
  },
  {
   "cell_type": "markdown",
   "metadata": {},
   "source": [
    "## Data Cleaning & data info\n",
    "\n",
    "    * ##k are mile markers \n",
    "    * bib is runner id\n",
    "    * ctz will be dropped due to lack of information \n",
    "    * state will be dropped out of convinence bcuz we have city\n",
    "    * also dropping the one missing observation without city defined\n",
    "    * casting numerical values to floats\n"
   ]
  },
  {
   "cell_type": "code",
   "execution_count": 5,
   "metadata": {},
   "outputs": [],
   "source": [
    "bib = data.bib\n",
    "data = data.drop(['state', 'ctz', 'bib'], axis=1)\n",
    "data = data.dropna()"
   ]
  },
  {
   "cell_type": "code",
   "execution_count": 6,
   "metadata": {},
   "outputs": [
    {
     "name": "stdout",
     "output_type": "stream",
     "text": [
      "<class 'pandas.core.frame.DataFrame'>\n",
      "Int64Index: 31648 entries, 0 to 31983\n",
      "Data columns (total 18 columns):\n",
      "10k          31648 non-null float64\n",
      "name         31648 non-null object\n",
      "division     31648 non-null int64\n",
      "25k          31648 non-null float64\n",
      "gender       31648 non-null object\n",
      "age          31648 non-null int64\n",
      "official     31648 non-null float64\n",
      "genderdiv    31648 non-null int64\n",
      "35k          31648 non-null float64\n",
      "overall      31648 non-null int64\n",
      "pace         31648 non-null float64\n",
      "30k          31648 non-null float64\n",
      "5k           31648 non-null float64\n",
      "half         31648 non-null float64\n",
      "20k          31648 non-null float64\n",
      "country      31648 non-null object\n",
      "city         31648 non-null object\n",
      "40k          31648 non-null float64\n",
      "dtypes: float64(10), int64(4), object(4)\n",
      "memory usage: 4.6+ MB\n"
     ]
    }
   ],
   "source": [
    "def num_er(df):\n",
    "    for x in ['10k', '25k', '35k', '30k', '5k', 'half', '20k', '40k']:\n",
    "        data.drop(data[data[x] == '-'].index, inplace = True, axis=0)\n",
    "        data[x] = data[[x]].astype(float)\n",
    "    return df\n",
    "data = num_er(data)\n",
    "data.info()"
   ]
  },
  {
   "cell_type": "code",
   "execution_count": 7,
   "metadata": {},
   "outputs": [],
   "source": [
    "non_numeric_columns = data.select_dtypes(['object']).columns\n",
    "numeric_columns = data.select_dtypes(['int64', 'float64']).columns"
   ]
  },
  {
   "cell_type": "code",
   "execution_count": 8,
   "metadata": {},
   "outputs": [
    {
     "data": {
      "text/plain": [
       "Index(['name', 'gender', 'country', 'city'], dtype='object')"
      ]
     },
     "execution_count": 8,
     "metadata": {},
     "output_type": "execute_result"
    }
   ],
   "source": [
    "non_numeric_columns"
   ]
  },
  {
   "cell_type": "code",
   "execution_count": 9,
   "metadata": {},
   "outputs": [
    {
     "data": {
      "text/plain": [
       "Index(['10k', 'division', '25k', 'age', 'official', 'genderdiv', '35k',\n",
       "       'overall', 'pace', '30k', '5k', 'half', '20k', '40k'],\n",
       "      dtype='object')"
      ]
     },
     "execution_count": 9,
     "metadata": {},
     "output_type": "execute_result"
    }
   ],
   "source": [
    "numeric_columns"
   ]
  },
  {
   "cell_type": "code",
   "execution_count": 10,
   "metadata": {},
   "outputs": [
    {
     "data": {
      "text/html": [
       "<div>\n",
       "<style scoped>\n",
       "    .dataframe tbody tr th:only-of-type {\n",
       "        vertical-align: middle;\n",
       "    }\n",
       "\n",
       "    .dataframe tbody tr th {\n",
       "        vertical-align: top;\n",
       "    }\n",
       "\n",
       "    .dataframe thead th {\n",
       "        text-align: right;\n",
       "    }\n",
       "</style>\n",
       "<table border=\"1\" class=\"dataframe\">\n",
       "  <thead>\n",
       "    <tr style=\"text-align: right;\">\n",
       "      <th></th>\n",
       "      <th>10k</th>\n",
       "      <th>division</th>\n",
       "      <th>25k</th>\n",
       "      <th>age</th>\n",
       "      <th>official</th>\n",
       "      <th>genderdiv</th>\n",
       "      <th>35k</th>\n",
       "      <th>overall</th>\n",
       "      <th>pace</th>\n",
       "      <th>30k</th>\n",
       "      <th>5k</th>\n",
       "      <th>half</th>\n",
       "      <th>20k</th>\n",
       "      <th>40k</th>\n",
       "    </tr>\n",
       "  </thead>\n",
       "  <tbody>\n",
       "    <tr>\n",
       "      <td>count</td>\n",
       "      <td>31648.000000</td>\n",
       "      <td>31648.000000</td>\n",
       "      <td>31648.000000</td>\n",
       "      <td>31648.000000</td>\n",
       "      <td>31648.000000</td>\n",
       "      <td>31648.000000</td>\n",
       "      <td>31648.000000</td>\n",
       "      <td>31648.000000</td>\n",
       "      <td>31648.000000</td>\n",
       "      <td>31648.000000</td>\n",
       "      <td>31648.000000</td>\n",
       "      <td>31648.000000</td>\n",
       "      <td>31648.000000</td>\n",
       "      <td>31648.000000</td>\n",
       "    </tr>\n",
       "    <tr>\n",
       "      <td>mean</td>\n",
       "      <td>51.629090</td>\n",
       "      <td>1922.800367</td>\n",
       "      <td>133.581381</td>\n",
       "      <td>42.384700</td>\n",
       "      <td>241.952878</td>\n",
       "      <td>8003.025404</td>\n",
       "      <td>196.033725</td>\n",
       "      <td>15834.008658</td>\n",
       "      <td>9.236483</td>\n",
       "      <td>163.895155</td>\n",
       "      <td>25.678275</td>\n",
       "      <td>111.211631</td>\n",
       "      <td>105.321547</td>\n",
       "      <td>228.190455</td>\n",
       "    </tr>\n",
       "    <tr>\n",
       "      <td>std</td>\n",
       "      <td>8.710235</td>\n",
       "      <td>1704.844465</td>\n",
       "      <td>25.571858</td>\n",
       "      <td>11.299784</td>\n",
       "      <td>50.843279</td>\n",
       "      <td>4733.295012</td>\n",
       "      <td>40.775632</td>\n",
       "      <td>9182.364552</td>\n",
       "      <td>1.939178</td>\n",
       "      <td>32.889838</td>\n",
       "      <td>4.215447</td>\n",
       "      <td>20.306691</td>\n",
       "      <td>19.159786</td>\n",
       "      <td>48.075181</td>\n",
       "    </tr>\n",
       "    <tr>\n",
       "      <td>min</td>\n",
       "      <td>16.620000</td>\n",
       "      <td>1.000000</td>\n",
       "      <td>45.800000</td>\n",
       "      <td>18.000000</td>\n",
       "      <td>80.600000</td>\n",
       "      <td>1.000000</td>\n",
       "      <td>67.420000</td>\n",
       "      <td>1.000000</td>\n",
       "      <td>3.080000</td>\n",
       "      <td>56.450000</td>\n",
       "      <td>7.750000</td>\n",
       "      <td>38.030000</td>\n",
       "      <td>36.100000</td>\n",
       "      <td>76.100000</td>\n",
       "    </tr>\n",
       "    <tr>\n",
       "      <td>25%</td>\n",
       "      <td>45.370000</td>\n",
       "      <td>607.000000</td>\n",
       "      <td>115.430000</td>\n",
       "      <td>33.000000</td>\n",
       "      <td>205.300000</td>\n",
       "      <td>3940.000000</td>\n",
       "      <td>166.950000</td>\n",
       "      <td>7879.750000</td>\n",
       "      <td>7.830000</td>\n",
       "      <td>140.515000</td>\n",
       "      <td>22.620000</td>\n",
       "      <td>96.750000</td>\n",
       "      <td>91.670000</td>\n",
       "      <td>193.620000</td>\n",
       "    </tr>\n",
       "    <tr>\n",
       "      <td>50%</td>\n",
       "      <td>50.280000</td>\n",
       "      <td>1418.000000</td>\n",
       "      <td>128.850000</td>\n",
       "      <td>42.000000</td>\n",
       "      <td>231.980000</td>\n",
       "      <td>7919.000000</td>\n",
       "      <td>187.850000</td>\n",
       "      <td>15829.500000</td>\n",
       "      <td>8.850000</td>\n",
       "      <td>157.500000</td>\n",
       "      <td>25.050000</td>\n",
       "      <td>107.680000</td>\n",
       "      <td>102.000000</td>\n",
       "      <td>218.475000</td>\n",
       "    </tr>\n",
       "    <tr>\n",
       "      <td>75%</td>\n",
       "      <td>57.000000</td>\n",
       "      <td>2601.000000</td>\n",
       "      <td>147.700000</td>\n",
       "      <td>50.000000</td>\n",
       "      <td>272.200000</td>\n",
       "      <td>11893.000000</td>\n",
       "      <td>219.370000</td>\n",
       "      <td>23785.250000</td>\n",
       "      <td>10.380000</td>\n",
       "      <td>182.200000</td>\n",
       "      <td>28.400000</td>\n",
       "      <td>122.680000</td>\n",
       "      <td>116.150000</td>\n",
       "      <td>256.570000</td>\n",
       "    </tr>\n",
       "    <tr>\n",
       "      <td>max</td>\n",
       "      <td>112.380000</td>\n",
       "      <td>6979.000000</td>\n",
       "      <td>289.020000</td>\n",
       "      <td>81.000000</td>\n",
       "      <td>538.880000</td>\n",
       "      <td>17575.000000</td>\n",
       "      <td>449.330000</td>\n",
       "      <td>31931.000000</td>\n",
       "      <td>20.570000</td>\n",
       "      <td>376.380000</td>\n",
       "      <td>86.950000</td>\n",
       "      <td>236.670000</td>\n",
       "      <td>224.350000</td>\n",
       "      <td>508.350000</td>\n",
       "    </tr>\n",
       "  </tbody>\n",
       "</table>\n",
       "</div>"
      ],
      "text/plain": [
       "                10k      division           25k           age      official  \\\n",
       "count  31648.000000  31648.000000  31648.000000  31648.000000  31648.000000   \n",
       "mean      51.629090   1922.800367    133.581381     42.384700    241.952878   \n",
       "std        8.710235   1704.844465     25.571858     11.299784     50.843279   \n",
       "min       16.620000      1.000000     45.800000     18.000000     80.600000   \n",
       "25%       45.370000    607.000000    115.430000     33.000000    205.300000   \n",
       "50%       50.280000   1418.000000    128.850000     42.000000    231.980000   \n",
       "75%       57.000000   2601.000000    147.700000     50.000000    272.200000   \n",
       "max      112.380000   6979.000000    289.020000     81.000000    538.880000   \n",
       "\n",
       "          genderdiv           35k       overall          pace           30k  \\\n",
       "count  31648.000000  31648.000000  31648.000000  31648.000000  31648.000000   \n",
       "mean    8003.025404    196.033725  15834.008658      9.236483    163.895155   \n",
       "std     4733.295012     40.775632   9182.364552      1.939178     32.889838   \n",
       "min        1.000000     67.420000      1.000000      3.080000     56.450000   \n",
       "25%     3940.000000    166.950000   7879.750000      7.830000    140.515000   \n",
       "50%     7919.000000    187.850000  15829.500000      8.850000    157.500000   \n",
       "75%    11893.000000    219.370000  23785.250000     10.380000    182.200000   \n",
       "max    17575.000000    449.330000  31931.000000     20.570000    376.380000   \n",
       "\n",
       "                 5k          half           20k           40k  \n",
       "count  31648.000000  31648.000000  31648.000000  31648.000000  \n",
       "mean      25.678275    111.211631    105.321547    228.190455  \n",
       "std        4.215447     20.306691     19.159786     48.075181  \n",
       "min        7.750000     38.030000     36.100000     76.100000  \n",
       "25%       22.620000     96.750000     91.670000    193.620000  \n",
       "50%       25.050000    107.680000    102.000000    218.475000  \n",
       "75%       28.400000    122.680000    116.150000    256.570000  \n",
       "max       86.950000    236.670000    224.350000    508.350000  "
      ]
     },
     "execution_count": 10,
     "metadata": {},
     "output_type": "execute_result"
    }
   ],
   "source": [
    "data.describe()"
   ]
  },
  {
   "cell_type": "markdown",
   "metadata": {},
   "source": [
    "## Avg Age 42\n",
    "## Avg Pace 9.23\n",
    "## std increases as we get further along the race\n",
    "## checked out youtube video on the marathon, there are specific areas that runners are challenged more than other areas of the course"
   ]
  },
  {
   "cell_type": "code",
   "execution_count": 11,
   "metadata": {},
   "outputs": [
    {
     "data": {
      "text/plain": [
       "<matplotlib.axes._subplots.AxesSubplot at 0x1e4770eb908>"
      ]
     },
     "execution_count": 11,
     "metadata": {},
     "output_type": "execute_result"
    },
    {
     "data": {
      "image/png": "[encoded data removed]",
      "text/plain": [
       "<Figure size 432x288 with 1 Axes>"
      ]
     },
     "metadata": {
      "needs_background": "light"
     },
     "output_type": "display_data"
    }
   ],
   "source": [
    "sns.distplot(data['age'])\n"
   ]
  },
  {
   "cell_type": "code",
   "execution_count": 12,
   "metadata": {},
   "outputs": [
    {
     "data": {
      "text/plain": [
       "<matplotlib.axes._subplots.AxesSubplot at 0x1e477892588>"
      ]
     },
     "execution_count": 12,
     "metadata": {},
     "output_type": "execute_result"
    },
    {
     "data": {
      "image/png": "[encoded data removed]",
      "text/plain": [
       "<Figure size 432x288 with 1 Axes>"
      ]
     },
     "metadata": {
      "needs_background": "light"
     },
     "output_type": "display_data"
    }
   ],
   "source": [
    "sns.distplot(data['pace'])"
   ]
  },
  {
   "cell_type": "code",
   "execution_count": 13,
   "metadata": {},
   "outputs": [
    {
     "data": {
      "text/plain": [
       "<matplotlib.axes._subplots.AxesSubplot at 0x1e4779a2a08>"
      ]
     },
     "execution_count": 13,
     "metadata": {},
     "output_type": "execute_result"
    },
    {
     "data": {
      "image/png": "[encoded data removed]",
      "text/plain": [
       "<Figure size 432x288 with 1 Axes>"
      ]
     },
     "metadata": {
      "needs_background": "light"
     },
     "output_type": "display_data"
    }
   ],
   "source": [
    "sns.violinplot(x=\"official\", y=\"gender\",\n",
    "               split=True, inner=\"quart\",\n",
    "               data=data)"
   ]
  },
  {
   "cell_type": "code",
   "execution_count": 14,
   "metadata": {},
   "outputs": [
    {
     "data": {
      "text/plain": [
       "<seaborn.axisgrid.JointGrid at 0x1e477a11c48>"
      ]
     },
     "execution_count": 14,
     "metadata": {},
     "output_type": "execute_result"
    },
    {
     "data": {
      "image/png": "[encoded data removed]",
      "text/plain": [
       "<Figure size 432x432 with 3 Axes>"
      ]
     },
     "metadata": {
      "needs_background": "light"
     },
     "output_type": "display_data"
    }
   ],
   "source": [
    "sns.jointplot(x=\"age\", y=\"40k\", data=data)"
   ]
  },
  {
   "cell_type": "code",
   "execution_count": 15,
   "metadata": {},
   "outputs": [],
   "source": [
    "data = pd.get_dummies(data, columns=['gender'])\n",
    "data = data.drop(['gender_F'], axis=1)"
   ]
  },
  {
   "cell_type": "code",
   "execution_count": 16,
   "metadata": {},
   "outputs": [],
   "source": [
    "X = data[['gender_M', 'pace']].values\n",
    "y = data[['official']].values"
   ]
  },
  {
   "cell_type": "markdown",
   "metadata": {},
   "source": [
    "# K-Means"
   ]
  },
  {
   "cell_type": "code",
   "execution_count": 17,
   "metadata": {},
   "outputs": [
    {
     "data": {
      "image/png": "[encoded data removed]",
      "text/plain": [
       "<Figure size 432x288 with 1 Axes>"
      ]
     },
     "metadata": {
      "needs_background": "light"
     },
     "output_type": "display_data"
    }
   ],
   "source": [
    "# Normalize the data.\n",
    "     # because this data was generated abitrarily we do not need to normalize it for this excersize\n",
    "          # using X_norm gives us a really cool shape!!!\n",
    "X_norm = normalize(X)\n",
    "\n",
    "# Reduce it to two components for visualization\n",
    "X_pca = PCA(2).fit_transform(X)\n",
    "\n",
    "# We know we're looking for three clusters.\n",
    "\n",
    "# Calculate predicted values.\n",
    "Kmeans = KMeans(n_clusters=3, random_state=42, init='k-means++').fit(X_pca)\n",
    "y_pred = Kmeans.predict(X_pca)\n",
    "labels = Kmeans.labels_\n",
    "\n",
    "# Plot the solution.\n",
    "plt.scatter(X_pca[:, 0], X_pca[:, 1], c=y_pred)\n",
    "plt.show()"
   ]
  },
  {
   "cell_type": "code",
   "execution_count": null,
   "metadata": {},
   "outputs": [],
   "source": []
  },
  {
   "cell_type": "markdown",
   "metadata": {},
   "source": [
    "### Calinski-Harabasz Index\n",
    "If the ground truth labels are not known, the Calinski-Harabasz index (sklearn.metrics.calinski_harabasz_score) - also known as the Variance Ratio Criterion - can be used to evaluate the model, where a higher Calinski-Harabasz score relates to a model with better defined clusters.\n",
    "\n",
    "\n",
    "2.3.10.6.1. Advantages\n",
    "The score is higher when clusters are dense and well separated, which relates to a standard concept of a cluster.\n",
    "\n",
    "The score is fast to compute.\n",
    "\n",
    "2.3.10.6.2. Drawbacks\n",
    "The Calinski-Harabasz index is generally higher for convex clusters than other concepts of clusters, such as density based clusters like those obtained through DBSCAN."
   ]
  },
  {
   "cell_type": "code",
   "execution_count": 18,
   "metadata": {},
   "outputs": [
    {
     "data": {
      "text/plain": [
       "57021.49757148764"
      ]
     },
     "execution_count": 18,
     "metadata": {},
     "output_type": "execute_result"
    }
   ],
   "source": [
    "score = metrics.calinski_harabasz_score(X, labels)\n",
    "score"
   ]
  },
  {
   "cell_type": "code",
   "execution_count": null,
   "metadata": {},
   "outputs": [],
   "source": []
  },
  {
   "cell_type": "markdown",
   "metadata": {},
   "source": [
    "### Silhouette Coefficient\n",
    "\n",
    "If the ground truth labels are not known, evaluation must be performed using the model itself. The Silhouette Coefficient (sklearn.metrics.silhouette_score) is an example of such an evaluation, where a higher Silhouette Coefficient score relates to a model with better defined clusters. \n",
    "\n",
    "\n",
    "Advantages\n",
    "The score is bounded between -1 for incorrect clustering and +1 for highly dense clustering. Scores around zero indicate overlapping clusters.\n",
    "\n",
    "The score is higher when clusters are dense and well separated, which relates to a standard concept of a cluster.\n",
    "\n",
    "Drawbacks\n",
    "The Silhouette Coefficient is generally higher for convex clusters than other concepts of clusters, such as density based clusters like those obtained through DBSCAN."
   ]
  },
  {
   "cell_type": "code",
   "execution_count": 19,
   "metadata": {},
   "outputs": [
    {
     "data": {
      "text/plain": [
       "0.4537731238143743"
      ]
     },
     "execution_count": 19,
     "metadata": {},
     "output_type": "execute_result"
    }
   ],
   "source": [
    "s_score = metrics.silhouette_score(X, labels, metric='euclidean')\n",
    "s_score"
   ]
  },
  {
   "cell_type": "markdown",
   "metadata": {},
   "source": [
    "# Mean Shift"
   ]
  },
  {
   "cell_type": "code",
   "execution_count": 22,
   "metadata": {},
   "outputs": [
    {
     "name": "stdout",
     "output_type": "stream",
     "text": [
      "Number of estimated clusters: 3\n"
     ]
    }
   ],
   "source": [
    "#Divide into training and test sets.\n",
    "X_train, X_test, y_train, y_test = train_test_split(\n",
    "    X,\n",
    "    y,\n",
    "    test_size=0.2,\n",
    "    random_state=42)\n",
    "\n",
    "# Here we set the bandwidth. This function automatically derives a bandwidth\n",
    "# number based on an inspection of the distances among points in the data.\n",
    "bandwidth = estimate_bandwidth(X_train, quantile=0.2, n_samples=500)\n",
    "\n",
    "# Declare and fit the model.\n",
    "ms = MeanShift(bandwidth=bandwidth, bin_seeding=True)\n",
    "ms.fit(X_train)\n",
    "\n",
    "# Extract cluster assignments for each data point.\n",
    "labels = ms.labels_\n",
    "\n",
    "# Coordinates of the cluster centers.\n",
    "cluster_centers = ms.cluster_centers_\n",
    "\n",
    "# Count our clusters.\n",
    "n_clusters_ = len(np.unique(labels))\n",
    "\n",
    "print(\"Number of estimated clusters: {}\".format(n_clusters_))"
   ]
  },
  {
   "cell_type": "code",
   "execution_count": 23,
   "metadata": {},
   "outputs": [
    {
     "data": {
      "image/png": "[encoded data removed]",
      "text/plain": [
       "<Figure size 432x288 with 1 Axes>"
      ]
     },
     "metadata": {
      "needs_background": "light"
     },
     "output_type": "display_data"
    }
   ],
   "source": [
    "plt.scatter(X_train[:, 0], X_train[:, 1], c=labels)\n",
    "plt.show()"
   ]
  },
  {
   "cell_type": "code",
   "execution_count": 24,
   "metadata": {},
   "outputs": [
    {
     "data": {
      "text/plain": [
       "1950.5713362122253"
      ]
     },
     "execution_count": 24,
     "metadata": {},
     "output_type": "execute_result"
    }
   ],
   "source": [
    "score = metrics.calinski_harabasz_score(X_train, labels)\n",
    "score"
   ]
  },
  {
   "cell_type": "code",
   "execution_count": 25,
   "metadata": {},
   "outputs": [
    {
     "data": {
      "text/plain": [
       "0.24146203950628375"
      ]
     },
     "execution_count": 25,
     "metadata": {},
     "output_type": "execute_result"
    }
   ],
   "source": [
    "s_score = metrics.silhouette_score(X_train, labels, metric='euclidean')\n",
    "s_score"
   ]
  },
  {
   "cell_type": "code",
   "execution_count": null,
   "metadata": {},
   "outputs": [],
   "source": []
  },
  {
   "cell_type": "markdown",
   "metadata": {},
   "source": [
    "### K-Means\n",
    "\n",
    "based on the results back from these two metrics, I would pick K-Means over Mean Shift. With that in mind, let's check out what those clusters tell us about the groups of runners picked by K-Means. "
   ]
  },
  {
   "cell_type": "code",
   "execution_count": null,
   "metadata": {},
   "outputs": [],
   "source": []
  },
  {
   "cell_type": "code",
   "execution_count": 34,
   "metadata": {},
   "outputs": [],
   "source": [
    "data['class'] = Kmeans.predict(X_pca)"
   ]
  },
  {
   "cell_type": "code",
   "execution_count": 36,
   "metadata": {},
   "outputs": [
    {
     "data": {
      "text/html": [
       "<div>\n",
       "<style scoped>\n",
       "    .dataframe tbody tr th:only-of-type {\n",
       "        vertical-align: middle;\n",
       "    }\n",
       "\n",
       "    .dataframe tbody tr th {\n",
       "        vertical-align: top;\n",
       "    }\n",
       "\n",
       "    .dataframe thead th {\n",
       "        text-align: right;\n",
       "    }\n",
       "</style>\n",
       "<table border=\"1\" class=\"dataframe\">\n",
       "  <thead>\n",
       "    <tr style=\"text-align: right;\">\n",
       "      <th></th>\n",
       "      <th>10k</th>\n",
       "      <th>name</th>\n",
       "      <th>division</th>\n",
       "      <th>25k</th>\n",
       "      <th>age</th>\n",
       "      <th>official</th>\n",
       "      <th>genderdiv</th>\n",
       "      <th>35k</th>\n",
       "      <th>overall</th>\n",
       "      <th>pace</th>\n",
       "      <th>30k</th>\n",
       "      <th>5k</th>\n",
       "      <th>half</th>\n",
       "      <th>20k</th>\n",
       "      <th>country</th>\n",
       "      <th>city</th>\n",
       "      <th>40k</th>\n",
       "      <th>gender_M</th>\n",
       "      <th>class</th>\n",
       "    </tr>\n",
       "  </thead>\n",
       "  <tbody>\n",
       "    <tr>\n",
       "      <td>0</td>\n",
       "      <td>17.37</td>\n",
       "      <td>Yamamoto, Hiroyuki</td>\n",
       "      <td>8</td>\n",
       "      <td>47.67</td>\n",
       "      <td>47</td>\n",
       "      <td>85.25</td>\n",
       "      <td>8</td>\n",
       "      <td>71.40</td>\n",
       "      <td>8</td>\n",
       "      <td>3.27</td>\n",
       "      <td>59.18</td>\n",
       "      <td>8.02</td>\n",
       "      <td>39.72</td>\n",
       "      <td>37.65</td>\n",
       "      <td>JPN</td>\n",
       "      <td>Fukuoka</td>\n",
       "      <td>80.43</td>\n",
       "      <td>1</td>\n",
       "      <td>2</td>\n",
       "    </tr>\n",
       "    <tr>\n",
       "      <td>1</td>\n",
       "      <td>32.58</td>\n",
       "      <td>Jeptoo, Rita</td>\n",
       "      <td>1</td>\n",
       "      <td>82.43</td>\n",
       "      <td>33</td>\n",
       "      <td>138.95</td>\n",
       "      <td>1</td>\n",
       "      <td>116.37</td>\n",
       "      <td>21</td>\n",
       "      <td>5.30</td>\n",
       "      <td>99.33</td>\n",
       "      <td>16.22</td>\n",
       "      <td>69.47</td>\n",
       "      <td>65.83</td>\n",
       "      <td>KEN</td>\n",
       "      <td>Eldoret</td>\n",
       "      <td>132.10</td>\n",
       "      <td>0</td>\n",
       "      <td>2</td>\n",
       "    </tr>\n",
       "    <tr>\n",
       "      <td>2</td>\n",
       "      <td>16.62</td>\n",
       "      <td>Van Dyk, Ernst F.</td>\n",
       "      <td>1</td>\n",
       "      <td>45.80</td>\n",
       "      <td>41</td>\n",
       "      <td>80.60</td>\n",
       "      <td>1</td>\n",
       "      <td>67.42</td>\n",
       "      <td>1</td>\n",
       "      <td>3.08</td>\n",
       "      <td>56.45</td>\n",
       "      <td>7.75</td>\n",
       "      <td>38.03</td>\n",
       "      <td>36.10</td>\n",
       "      <td>RSA</td>\n",
       "      <td>Paarl</td>\n",
       "      <td>76.10</td>\n",
       "      <td>1</td>\n",
       "      <td>2</td>\n",
       "    </tr>\n",
       "    <tr>\n",
       "      <td>3</td>\n",
       "      <td>32.57</td>\n",
       "      <td>Dibaba, Mare</td>\n",
       "      <td>3</td>\n",
       "      <td>82.43</td>\n",
       "      <td>24</td>\n",
       "      <td>140.58</td>\n",
       "      <td>3</td>\n",
       "      <td>116.37</td>\n",
       "      <td>27</td>\n",
       "      <td>5.37</td>\n",
       "      <td>99.33</td>\n",
       "      <td>16.20</td>\n",
       "      <td>69.47</td>\n",
       "      <td>65.83</td>\n",
       "      <td>ETH</td>\n",
       "      <td>Shoa</td>\n",
       "      <td>132.95</td>\n",
       "      <td>0</td>\n",
       "      <td>2</td>\n",
       "    </tr>\n",
       "    <tr>\n",
       "      <td>4</td>\n",
       "      <td>17.12</td>\n",
       "      <td>Hokinoue, Kota</td>\n",
       "      <td>2</td>\n",
       "      <td>46.37</td>\n",
       "      <td>40</td>\n",
       "      <td>81.23</td>\n",
       "      <td>2</td>\n",
       "      <td>67.83</td>\n",
       "      <td>2</td>\n",
       "      <td>3.10</td>\n",
       "      <td>57.03</td>\n",
       "      <td>8.02</td>\n",
       "      <td>38.60</td>\n",
       "      <td>36.58</td>\n",
       "      <td>JPN</td>\n",
       "      <td>Nogata Fukuoka</td>\n",
       "      <td>76.72</td>\n",
       "      <td>1</td>\n",
       "      <td>2</td>\n",
       "    </tr>\n",
       "  </tbody>\n",
       "</table>\n",
       "</div>"
      ],
      "text/plain": [
       "     10k                name  division    25k  age  official  genderdiv  \\\n",
       "0  17.37  Yamamoto, Hiroyuki         8  47.67   47     85.25          8   \n",
       "1  32.58        Jeptoo, Rita         1  82.43   33    138.95          1   \n",
       "2  16.62   Van Dyk, Ernst F.         1  45.80   41     80.60          1   \n",
       "3  32.57        Dibaba, Mare         3  82.43   24    140.58          3   \n",
       "4  17.12      Hokinoue, Kota         2  46.37   40     81.23          2   \n",
       "\n",
       "      35k  overall  pace    30k     5k   half    20k country            city  \\\n",
       "0   71.40        8  3.27  59.18   8.02  39.72  37.65     JPN         Fukuoka   \n",
       "1  116.37       21  5.30  99.33  16.22  69.47  65.83     KEN         Eldoret   \n",
       "2   67.42        1  3.08  56.45   7.75  38.03  36.10     RSA           Paarl   \n",
       "3  116.37       27  5.37  99.33  16.20  69.47  65.83     ETH            Shoa   \n",
       "4   67.83        2  3.10  57.03   8.02  38.60  36.58     JPN  Nogata Fukuoka   \n",
       "\n",
       "      40k  gender_M  class  \n",
       "0   80.43         1      2  \n",
       "1  132.10         0      2  \n",
       "2   76.10         1      2  \n",
       "3  132.95         0      2  \n",
       "4   76.72         1      2  "
      ]
     },
     "execution_count": 36,
     "metadata": {},
     "output_type": "execute_result"
    }
   ],
   "source": [
    "data.head()"
   ]
  },
  {
   "cell_type": "code",
   "execution_count": 50,
   "metadata": {},
   "outputs": [
    {
     "data": {
      "text/html": [
       "<div>\n",
       "<style scoped>\n",
       "    .dataframe tbody tr th:only-of-type {\n",
       "        vertical-align: middle;\n",
       "    }\n",
       "\n",
       "    .dataframe tbody tr th {\n",
       "        vertical-align: top;\n",
       "    }\n",
       "\n",
       "    .dataframe thead th {\n",
       "        text-align: right;\n",
       "    }\n",
       "</style>\n",
       "<table border=\"1\" class=\"dataframe\">\n",
       "  <thead>\n",
       "    <tr style=\"text-align: right;\">\n",
       "      <th></th>\n",
       "      <th></th>\n",
       "      <th>min</th>\n",
       "      <th>mean</th>\n",
       "      <th>max</th>\n",
       "      <th>std</th>\n",
       "      <th>var</th>\n",
       "      <th>count</th>\n",
       "    </tr>\n",
       "    <tr>\n",
       "      <th>gender_M</th>\n",
       "      <th>class</th>\n",
       "      <th></th>\n",
       "      <th></th>\n",
       "      <th></th>\n",
       "      <th></th>\n",
       "      <th></th>\n",
       "      <th></th>\n",
       "    </tr>\n",
       "  </thead>\n",
       "  <tbody>\n",
       "    <tr>\n",
       "      <td rowspan=\"3\" valign=\"top\">0</td>\n",
       "      <td>0</td>\n",
       "      <td>287.97</td>\n",
       "      <td>326.005692</td>\n",
       "      <td>461.87</td>\n",
       "      <td>29.389411</td>\n",
       "      <td>863.737463</td>\n",
       "      <td>3041</td>\n",
       "    </tr>\n",
       "    <tr>\n",
       "      <td>1</td>\n",
       "      <td>221.57</td>\n",
       "      <td>248.726795</td>\n",
       "      <td>287.95</td>\n",
       "      <td>18.764376</td>\n",
       "      <td>352.101811</td>\n",
       "      <td>7191</td>\n",
       "    </tr>\n",
       "    <tr>\n",
       "      <td>2</td>\n",
       "      <td>95.10</td>\n",
       "      <td>206.349545</td>\n",
       "      <td>221.55</td>\n",
       "      <td>13.028777</td>\n",
       "      <td>169.749041</td>\n",
       "      <td>3932</td>\n",
       "    </tr>\n",
       "    <tr>\n",
       "      <td rowspan=\"3\" valign=\"top\">1</td>\n",
       "      <td>0</td>\n",
       "      <td>287.10</td>\n",
       "      <td>323.880216</td>\n",
       "      <td>538.88</td>\n",
       "      <td>29.979873</td>\n",
       "      <td>898.792811</td>\n",
       "      <td>2876</td>\n",
       "    </tr>\n",
       "    <tr>\n",
       "      <td>1</td>\n",
       "      <td>225.48</td>\n",
       "      <td>252.219279</td>\n",
       "      <td>287.07</td>\n",
       "      <td>17.729437</td>\n",
       "      <td>314.332950</td>\n",
       "      <td>5147</td>\n",
       "    </tr>\n",
       "    <tr>\n",
       "      <td>2</td>\n",
       "      <td>80.60</td>\n",
       "      <td>194.094542</td>\n",
       "      <td>225.48</td>\n",
       "      <td>19.146476</td>\n",
       "      <td>366.587531</td>\n",
       "      <td>9461</td>\n",
       "    </tr>\n",
       "  </tbody>\n",
       "</table>\n",
       "</div>"
      ],
      "text/plain": [
       "                   min        mean     max        std         var  count\n",
       "gender_M class                                                          \n",
       "0        0      287.97  326.005692  461.87  29.389411  863.737463   3041\n",
       "         1      221.57  248.726795  287.95  18.764376  352.101811   7191\n",
       "         2       95.10  206.349545  221.55  13.028777  169.749041   3932\n",
       "1        0      287.10  323.880216  538.88  29.979873  898.792811   2876\n",
       "         1      225.48  252.219279  287.07  17.729437  314.332950   5147\n",
       "         2       80.60  194.094542  225.48  19.146476  366.587531   9461"
      ]
     },
     "execution_count": 50,
     "metadata": {},
     "output_type": "execute_result"
    }
   ],
   "source": [
    "data.groupby(['gender_M', 'class']).official.agg(['min', 'mean', 'max', 'std', 'var', 'count'])"
   ]
  },
  {
   "cell_type": "markdown",
   "metadata": {},
   "source": [
    "#### From this table we can see the descriptive statistics of the runners the clusters selected, separated by gender. \n",
    "\n"
   ]
  },
  {
   "cell_type": "code",
   "execution_count": null,
   "metadata": {},
   "outputs": [],
   "source": []
  }
 ],
 "metadata": {
  "kernelspec": {
   "display_name": "Python 3",
   "language": "python",
   "name": "python3"
  },
  "language_info": {
   "codemirror_mode": {
    "name": "ipython",
    "version": 3
   },
   "file_extension": ".py",
   "mimetype": "text/x-python",
   "name": "python",
   "nbconvert_exporter": "python",
   "pygments_lexer": "ipython3",
   "version": "3.7.4"
  }
 },
 "nbformat": 4,
 "nbformat_minor": 4
}
