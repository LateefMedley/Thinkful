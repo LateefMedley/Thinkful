{
 "cells": [
  {
   "cell_type": "code",
   "execution_count": 1,
   "metadata": {},
   "outputs": [],
   "source": [
    "import requests\n",
    "from bs4 import BeautifulSoup\n",
    "from pprint import pprint\n",
    "\n",
    "URL = 'https://www.monster.com/jobs/search/?q=data-science&where=Minneapolis__2C-MN'\n",
    "page = requests.get(URL)\n",
    "\n",
    "soup = BeautifulSoup(page.content, 'html.parser')"
   ]
  },
  {
   "cell_type": "code",
   "execution_count": 2,
   "metadata": {},
   "outputs": [],
   "source": [
    "f = open(\"monster_source.txt\", \"w+\")"
   ]
  },
  {
   "cell_type": "code",
   "execution_count": 3,
   "metadata": {},
   "outputs": [
    {
     "data": {
      "text/plain": [
       "<function TextIOWrapper.close()>"
      ]
     },
     "execution_count": 3,
     "metadata": {},
     "output_type": "execute_result"
    }
   ],
   "source": [
    "results = soup.find(id = 'ResultsContainer')\n",
    "f.close"
   ]
  },
  {
   "cell_type": "code",
   "execution_count": 4,
   "metadata": {},
   "outputs": [],
   "source": [
    "job_elements = results.find_all('section', class_='card-content')"
   ]
  },
  {
   "cell_type": "code",
   "execution_count": 5,
   "metadata": {},
   "outputs": [
    {
     "name": "stdout",
     "output_type": "stream",
     "text": [
      "Data Scientist\n",
      "Apply here: https://job-openings.monster.com/data-scientist-minneapolis-mn-us-genesis10/223724186\n",
      "\n",
      "Data Scientist/Machine Learning Engineering Lead\n",
      "Apply here: https://job-openings.monster.com/data-scientist-machine-learning-engineering-lead-eden-prairie-mn-us-randstad-technologies/224057061\n",
      "\n",
      "Data Scientist (Project Lead)\n",
      "Apply here: https://job-openings.monster.com/data-scientist-project-lead-minnetonka-mn-us-apex-systems/224055067\n",
      "\n",
      "Director, Data Science\n",
      "Apply here: https://job-openings.monster.com/director-data-science-twin-cities-mn-us-university-of-minnesota/5fbf5777-ef80-41fc-953c-52caea35dfbd\n",
      "\n",
      "Data Scientist/Machine Learning Engineering Lead\n",
      "Apply here: https://job-openings.monster.com/data-scientist-machine-learning-engineering-lead-eden-prairie-mn-us-randstad-technologies/224056985\n",
      "\n",
      "Data Architect - Provider Data Management\n",
      "Apply here: https://job-openings.monster.com/data-architect-provider-data-management-richfield-mn-us-genesis10/223878848\n",
      "\n",
      "Data Integration Engineer\n",
      "Apply here: https://job-openings.monster.com/data-integration-engineer-minneapolis-mn-us-c3-iot/78e09559-ad01-4238-b294-c9c6c298c1e7\n",
      "\n",
      "Data Scientist\n",
      "Apply here: https://job-openings.monster.com/data-scientist-plymouth-mn-us-polaris/057086e8-6cab-4bac-aa80-e64d85813988\n",
      "\n",
      "Data Scientist III - Minneapolis\n",
      "Apply here: https://job-openings.monster.com/data-scientist-iii-minneapolis-minneapolis-mn-us-on-time-talent-solutions/e96c067e-b71b-4c27-a8a9-0a2bf12b441e\n",
      "\n",
      "Data Scientist\n",
      "Apply here: https://job-openings.monster.com/data-scientist-minneapolis-minnesota-united-states-of-america-us-inspire11/076a1660-0ad8-47c7-87d4-f4fb1f7163d3\n",
      "\n",
      "Sr. Data Scientist\n",
      "Apply here: https://job-openings.monster.com/sr-data-scientist-richfield-mn-us-flexion/e647b76d-a5cc-48cf-b6b1-3d2fb62b0ac3\n",
      "\n",
      "Engineering PhD Data Scientist\n",
      "Apply here: https://job-openings.monster.com/engineering-phd-data-scientist-minneapolis-mn-us-tignis-inc/9c906fb5-44c4-4679-adf9-1fcca54fded2\n",
      "\n",
      "Data Scientist\n",
      "Apply here: https://job-openings.monster.com/data-scientist-minneapolis-mn-us-artech-information-systems-llc/7ff1503c-1459-4095-991b-c2e43f13e02b\n",
      "\n",
      "Principal Data Scientist / Applied Machine Learning Engineer\n",
      "Apply here: https://job-openings.monster.com/principal-data-scientist-applied-machine-learning-engineer-minneapolis-st-paul-mn-us-citiustech/905ce49b-b172-45d5-842c-3a7f652bb848\n",
      "\n",
      "Senior Data Scientist\n",
      "Apply here: https://job-openings.monster.com/senior-data-scientist-minneapolis-mn-us-sense-corp/336aac64-7dce-4cf6-a066-17ccc2f60870\n",
      "\n",
      "Data Scientist/Machine Learning Engineering Lead\n",
      "Apply here: https://job-openings.monster.com/data-scientist-machine-learning-engineering-lead-eden-prairie-mn-us-randstad/4e69917d-62fd-4fd8-aabc-c886c361720c\n",
      "\n",
      "Senior Manager Machine Learning Data Scientist\n",
      "Apply here: https://job-openings.monster.com/senior-manager-machine-learning-data-scientist-eden-prairie-mn-us-unitedhealth-group-inc/6c1def30-4da9-4c85-99c7-ea03b3fac21f\n",
      "\n",
      "QA Engineer/Data Scientist II Job (Maple Grove, MN, US, 55311)\n",
      "Apply here: https://job-openings.monster.com/qa-engineer-data-scientist-ii-job-maple-grove-mn-us-55311-maple-grove-mn-us-boston-scientific/4a611174-cdbf-44c1-9d30-74e734ffd7eb\n",
      "\n",
      "Data Scientist\n",
      "Apply here: https://job-openings.monster.com/data-scientist-minneapolis-mn-us-pozent/b353ab9b-ff45-4c60-b9e3-3f7f048c8693\n",
      "\n",
      "Senior Data Scientist\n",
      "Apply here: https://job-openings.monster.com/senior-data-scientist-minneapolis-mn-us-capgemini/fcab3d3d-804c-4ee3-920e-c3a42472c30d\n",
      "\n",
      "Senior Data Analytics / Reporting Analyst\n",
      "Apply here: https://job-openings.monster.com/senior-data-analytics-reporting-analyst-minneapolis-mn-us-genesis10/224247236\n",
      "\n",
      "Sr Principal Data Scientist - Minnetonka, MN\n",
      "Apply here: https://job-openings.monster.com/sr-principal-data-scientist-minnetonka-mn-minnetonka-mn-us-unitedhealth-group-inc/e9e95d4c-92a8-40b6-996e-452bf2dc4bfd\n",
      "\n",
      "Tenure Track Software Engineering & Data Science Faculty (Open-Rank)\n",
      "Apply here: https://job-openings.monster.com/tenure-track-software-engineering-data-science-faculty-open-rank-st-paul-mn-us-university-of-st-thomas/a2b868e8-29b4-4222-b4b1-a6fa6aaceb5b\n",
      "\n"
     ]
    }
   ],
   "source": [
    "data_jobs = results.find_all('h2',\n",
    "                               string=lambda text: \"data\" in text.lower())\n",
    "\n",
    "for d_job in data_jobs:\n",
    "    link = d_job.find('a')['href']\n",
    "    print(d_job.text.strip())\n",
    "    print(f\"Apply here: {link}\\n\")"
   ]
  },
  {
   "cell_type": "markdown",
   "metadata": {},
   "source": []
  }
 ],
 "metadata": {
  "kernelspec": {
   "display_name": "Python 3",
   "language": "python",
   "name": "python3"
  },
  "language_info": {
   "codemirror_mode": {
    "name": "ipython",
    "version": 3
   },
   "file_extension": ".py",
   "mimetype": "text/x-python",
   "name": "python",
   "nbconvert_exporter": "python",
   "pygments_lexer": "ipython3",
   "version": "3.7.4"
  }
 },
 "nbformat": 4,
 "nbformat_minor": 4
}
