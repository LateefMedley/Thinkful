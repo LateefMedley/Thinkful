{
 "cells": [
  {
   "cell_type": "code",
   "execution_count": 47,
   "metadata": {},
   "outputs": [],
   "source": [
    "import pandas as pd\n",
    "import numpy as np\n",
    "import statistics as st"
   ]
  },
  {
   "cell_type": "code",
   "execution_count": 48,
   "metadata": {},
   "outputs": [],
   "source": [
    "cast = {'Greg' : 14, \n",
    "        'Marcia' : 12, \n",
    "        'Peter' : 11, \n",
    "        'Jan' : 10, \n",
    "        'Bobby' : 8, \n",
    "        'Cindy' : 6, \n",
    "        'Oliver' : 8}"
   ]
  },
  {
   "cell_type": "code",
   "execution_count": 49,
   "metadata": {},
   "outputs": [
    {
     "data": {
      "text/html": [
       "<div>\n",
       "<style scoped>\n",
       "    .dataframe tbody tr th:only-of-type {\n",
       "        vertical-align: middle;\n",
       "    }\n",
       "\n",
       "    .dataframe tbody tr th {\n",
       "        vertical-align: top;\n",
       "    }\n",
       "\n",
       "    .dataframe thead th {\n",
       "        text-align: right;\n",
       "    }\n",
       "</style>\n",
       "<table border=\"1\" class=\"dataframe\">\n",
       "  <thead>\n",
       "    <tr style=\"text-align: right;\">\n",
       "      <th></th>\n",
       "      <th>Age</th>\n",
       "    </tr>\n",
       "  </thead>\n",
       "  <tbody>\n",
       "    <tr>\n",
       "      <th>Greg</th>\n",
       "      <td>14</td>\n",
       "    </tr>\n",
       "    <tr>\n",
       "      <th>Marcia</th>\n",
       "      <td>12</td>\n",
       "    </tr>\n",
       "    <tr>\n",
       "      <th>Peter</th>\n",
       "      <td>11</td>\n",
       "    </tr>\n",
       "    <tr>\n",
       "      <th>Jan</th>\n",
       "      <td>10</td>\n",
       "    </tr>\n",
       "    <tr>\n",
       "      <th>Bobby</th>\n",
       "      <td>8</td>\n",
       "    </tr>\n",
       "    <tr>\n",
       "      <th>Cindy</th>\n",
       "      <td>6</td>\n",
       "    </tr>\n",
       "    <tr>\n",
       "      <th>Oliver</th>\n",
       "      <td>8</td>\n",
       "    </tr>\n",
       "  </tbody>\n",
       "</table>\n",
       "</div>"
      ],
      "text/plain": [
       "        Age\n",
       "Greg     14\n",
       "Marcia   12\n",
       "Peter    11\n",
       "Jan      10\n",
       "Bobby     8\n",
       "Cindy     6\n",
       "Oliver    8"
      ]
     },
     "execution_count": 49,
     "metadata": {},
     "output_type": "execute_result"
    }
   ],
   "source": [
    "df = pd.DataFrame.from_dict(cast, orient = 'index')\n",
    "df.columns = ['Age']\n",
    "df"
   ]
  },
  {
   "cell_type": "code",
   "execution_count": 50,
   "metadata": {},
   "outputs": [
    {
     "name": "stdout",
     "output_type": "stream",
     "text": [
      "Mean =  9.857142857142858\n",
      "\n",
      "Median =  10\n",
      "\n",
      "Mode =  8\n",
      "\n",
      "Variance =  6.408163265306122\n",
      "\n",
      "Standard Deviation =  2.531435020952764\n",
      "\n",
      "Standard Error =  1.0334540197243194\n"
     ]
    }
   ],
   "source": [
    "print(\"Mean = \", st.mean(df['Age']))\n",
    "print()\n",
    "print('Median = ', st.median(df['Age']))\n",
    "print()\n",
    "print('Mode = ', st.mode(df['Age']))\n",
    "print()\n",
    "print('Variance = ', np.var(df['Age']))\n",
    "print()\n",
    "print('Standard Deviation = ', np.std(df['Age']))\n",
    "print()\n",
    "print('Standard Error = ', np.std(df['Age'])/np.sqrt(len(df['Age'])-1))"
   ]
  },
  {
   "cell_type": "code",
   "execution_count": 51,
   "metadata": {},
   "outputs": [],
   "source": [
    "#Using these estimates, if you had to choose only one estimate of central tendency \n",
    "#and one estimate of variance to describe the data, which would you pick and why?"
   ]
  },
  {
   "cell_type": "code",
   "execution_count": 52,
   "metadata": {},
   "outputs": [
    {
     "name": "stdout",
     "output_type": "stream",
     "text": [
      "I would choose the mean and variance together as methods of central tendency and variance.\n",
      "\n",
      "The reason being that these two together(+-) covers the age range of all the kids included in this list.\n"
     ]
    }
   ],
   "source": [
    "print('I would choose the mean and variance together as methods of central tendency and variance.')\n",
    "print()\n",
    "print('The reason being that these two together(+-) covers the age range of all the kids included in this list.')"
   ]
  },
  {
   "cell_type": "code",
   "execution_count": 53,
   "metadata": {},
   "outputs": [
    {
     "data": {
      "text/html": [
       "<div>\n",
       "<style scoped>\n",
       "    .dataframe tbody tr th:only-of-type {\n",
       "        vertical-align: middle;\n",
       "    }\n",
       "\n",
       "    .dataframe tbody tr th {\n",
       "        vertical-align: top;\n",
       "    }\n",
       "\n",
       "    .dataframe thead th {\n",
       "        text-align: right;\n",
       "    }\n",
       "</style>\n",
       "<table border=\"1\" class=\"dataframe\">\n",
       "  <thead>\n",
       "    <tr style=\"text-align: right;\">\n",
       "      <th></th>\n",
       "      <th>Age</th>\n",
       "    </tr>\n",
       "  </thead>\n",
       "  <tbody>\n",
       "    <tr>\n",
       "      <th>Greg</th>\n",
       "      <td>14</td>\n",
       "    </tr>\n",
       "    <tr>\n",
       "      <th>Marcia</th>\n",
       "      <td>12</td>\n",
       "    </tr>\n",
       "    <tr>\n",
       "      <th>Peter</th>\n",
       "      <td>11</td>\n",
       "    </tr>\n",
       "    <tr>\n",
       "      <th>Jan</th>\n",
       "      <td>10</td>\n",
       "    </tr>\n",
       "    <tr>\n",
       "      <th>Bobby</th>\n",
       "      <td>8</td>\n",
       "    </tr>\n",
       "    <tr>\n",
       "      <th>Cindy</th>\n",
       "      <td>7</td>\n",
       "    </tr>\n",
       "    <tr>\n",
       "      <th>Oliver</th>\n",
       "      <td>8</td>\n",
       "    </tr>\n",
       "  </tbody>\n",
       "</table>\n",
       "</div>"
      ],
      "text/plain": [
       "        Age\n",
       "Greg     14\n",
       "Marcia   12\n",
       "Peter    11\n",
       "Jan      10\n",
       "Bobby     8\n",
       "Cindy     7\n",
       "Oliver    8"
      ]
     },
     "execution_count": 53,
     "metadata": {},
     "output_type": "execute_result"
    }
   ],
   "source": [
    "df.loc['Cindy'] += 1\n",
    "df"
   ]
  },
  {
   "cell_type": "code",
   "execution_count": 54,
   "metadata": {},
   "outputs": [
    {
     "name": "stdout",
     "output_type": "stream",
     "text": [
      "New Mean =  10\n",
      "\n",
      "New Median =  10\n",
      "\n",
      "New Mode =  8\n",
      "\n",
      "New Variance =  5.428571428571429\n",
      "\n",
      "New Standard Deviation =  2.32992949004287\n",
      "\n",
      "New Standard Error =  0.951189731211342\n"
     ]
    }
   ],
   "source": [
    "print(\"New Mean = \", st.mean(df['Age']))\n",
    "print()\n",
    "print('New Median = ', st.median(df['Age']))\n",
    "print()\n",
    "print('New Mode = ', st.mode(df['Age']))\n",
    "print()\n",
    "print('New Variance = ', np.var(df['Age']))\n",
    "print()\n",
    "print('New Standard Deviation = ', np.std(df['Age']))\n",
    "print()\n",
    "print('New Standard Error = ', np.std(df['Age'])/np.sqrt(len(df['Age'])-1))"
   ]
  },
  {
   "cell_type": "code",
   "execution_count": 55,
   "metadata": {},
   "outputs": [
    {
     "name": "stdout",
     "output_type": "stream",
     "text": [
      "Minor changes include the changes to the mean, standard deviation, and standard error.\n",
      "Variance comparably changed the most.\n",
      "The metrics median and mode did not change.\n"
     ]
    }
   ],
   "source": [
    "print('Minor changes include the changes to the mean, standard deviation, and standard error.')\n",
    "print('Variance comparably changed the most.')\n",
    "print('The metrics median and mode did not change.')"
   ]
  },
  {
   "cell_type": "code",
   "execution_count": 56,
   "metadata": {},
   "outputs": [],
   "source": [
    "df.rename(index ={'Oliver' : 'Jessica'}, inplace=True)\n",
    "df[6:] = 1"
   ]
  },
  {
   "cell_type": "code",
   "execution_count": 57,
   "metadata": {},
   "outputs": [
    {
     "data": {
      "text/html": [
       "<div>\n",
       "<style scoped>\n",
       "    .dataframe tbody tr th:only-of-type {\n",
       "        vertical-align: middle;\n",
       "    }\n",
       "\n",
       "    .dataframe tbody tr th {\n",
       "        vertical-align: top;\n",
       "    }\n",
       "\n",
       "    .dataframe thead th {\n",
       "        text-align: right;\n",
       "    }\n",
       "</style>\n",
       "<table border=\"1\" class=\"dataframe\">\n",
       "  <thead>\n",
       "    <tr style=\"text-align: right;\">\n",
       "      <th></th>\n",
       "      <th>Age</th>\n",
       "    </tr>\n",
       "  </thead>\n",
       "  <tbody>\n",
       "    <tr>\n",
       "      <th>Greg</th>\n",
       "      <td>14</td>\n",
       "    </tr>\n",
       "    <tr>\n",
       "      <th>Marcia</th>\n",
       "      <td>12</td>\n",
       "    </tr>\n",
       "    <tr>\n",
       "      <th>Peter</th>\n",
       "      <td>11</td>\n",
       "    </tr>\n",
       "    <tr>\n",
       "      <th>Jan</th>\n",
       "      <td>10</td>\n",
       "    </tr>\n",
       "    <tr>\n",
       "      <th>Bobby</th>\n",
       "      <td>8</td>\n",
       "    </tr>\n",
       "    <tr>\n",
       "      <th>Cindy</th>\n",
       "      <td>7</td>\n",
       "    </tr>\n",
       "    <tr>\n",
       "      <th>Jessica</th>\n",
       "      <td>1</td>\n",
       "    </tr>\n",
       "  </tbody>\n",
       "</table>\n",
       "</div>"
      ],
      "text/plain": [
       "         Age\n",
       "Greg      14\n",
       "Marcia    12\n",
       "Peter     11\n",
       "Jan       10\n",
       "Bobby      8\n",
       "Cindy      7\n",
       "Jessica    1"
      ]
     },
     "execution_count": 57,
     "metadata": {},
     "output_type": "execute_result"
    }
   ],
   "source": [
    "df"
   ]
  },
  {
   "cell_type": "code",
   "execution_count": 58,
   "metadata": {
    "scrolled": true
   },
   "outputs": [
    {
     "name": "stdout",
     "output_type": "stream",
     "text": [
      "Mean =  9\n",
      "\n",
      "Median =  10\n",
      "\n",
      "Variance =  15.428571428571429\n",
      "\n",
      "Standard Deviation =  3.927922024247863\n",
      "\n",
      "Standard Error =  1.6035674514745466\n"
     ]
    }
   ],
   "source": [
    "print(\"Mean = \", st.mean(df['Age']))\n",
    "print()\n",
    "print('Median = ', st.median(df['Age']))\n",
    "print()\n",
    "print('Variance = ', np.var(df['Age']))\n",
    "print()\n",
    "print('Standard Deviation = ', np.std(df['Age']))\n",
    "print()\n",
    "print('Standard Error = ', np.std(df['Age'])/np.sqrt(len(df['Age'])-1))"
   ]
  },
  {
   "cell_type": "code",
   "execution_count": 59,
   "metadata": {},
   "outputs": [],
   "source": [
    "#Every age on the list is unique, which raises an error when using statistics to find the mode\n",
    "#I could obtain the count or number of modes here, \n",
    "#but we can obvisously see from the dataframe given that the count for each age is one.\n",
    "#Every age is unique, so there is no mode."
   ]
  },
  {
   "cell_type": "code",
   "execution_count": 60,
   "metadata": {},
   "outputs": [],
   "source": [
    "#Concerning methods of central tendency...\n",
    "\n",
    "#This time arond I think the the variance is too large,\n",
    "#making the mean and the varience too \"inclusive\" of data outside the dataset.\n",
    "\n",
    "#The mean and standard deviation would be better measures to describe the central tendency this dataset."
   ]
  },
  {
   "cell_type": "code",
   "execution_count": 61,
   "metadata": {},
   "outputs": [],
   "source": [
    "#For the last question we can take the average of TV guide, Entertainment Weekly, and Pop Culture Today viewers\n",
    "#who are still a fan of the show and make an assumption of the American Population (around 20%) who are still fans of \n",
    "#The Brady Bunch Today. \n",
    "\n",
    "#The SciPhi Magazine fans were exclued from this average becuase they more than likely respresent a very niche or small \n",
    "#percentage of the American Population. With that in mind, it would hard to assume their preferences are the same as most \n",
    "#Americans"
   ]
  },
  {
   "cell_type": "code",
   "execution_count": null,
   "metadata": {},
   "outputs": [],
   "source": []
  }
 ],
 "metadata": {
  "kernelspec": {
   "display_name": "Python 3",
   "language": "python",
   "name": "python3"
  },
  "language_info": {
   "codemirror_mode": {
    "name": "ipython",
    "version": 3
   },
   "file_extension": ".py",
   "mimetype": "text/x-python",
   "name": "python",
   "nbconvert_exporter": "python",
   "pygments_lexer": "ipython3",
   "version": "3.7.3"
  }
 },
 "nbformat": 4,
 "nbformat_minor": 2
}
