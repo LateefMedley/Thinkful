{
 "cells": [
  {
   "cell_type": "markdown",
   "metadata": {},
   "source": [
    "DRILL:\n",
    "\n",
    "Implement a binary tree, which is filled with 15 pieces of random data. Your job is to then write a program to traverse the tree using a breadth first traversal. If you want additional practice, try other forms of traversal."
   ]
  },
  {
   "cell_type": "code",
   "execution_count": 104,
   "metadata": {},
   "outputs": [],
   "source": [
    "# A Python program to demonstrate common binary heap operations \n",
    "\n",
    "# Import the heap functions from python library \n",
    "from heapq import heappush, heappop, heapify \n",
    "\n",
    "# heappop - pop and return the smallest element from heap \n",
    "# heappush - push the value item onto the heap, maintaining \n",
    "#\t\t\t heap invarient \n",
    "# heapify - transform list into heap, in place, in linear time \n",
    "\n",
    "# A class for Min Heap \n",
    "class MinHeap: \n",
    "\t\n",
    "\t# Constructor to initialize a heap \n",
    "\tdef __init__(self): \n",
    "\t\tself.heap = [] \n",
    "\n",
    "\tdef parent(self, i): \n",
    "\t\treturn (i-1)//2\n",
    "\t\n",
    "\t# Inserts a new key 'k' \n",
    "\tdef insertKey(self, k): \n",
    "\t\theappush(self.heap, k)\t\t \n",
    "\n",
    "\t# Decrease value of key at index 'i' to new_val \n",
    "\t# It is assumed that new_val is smaller than heap[i] \n",
    "\tdef decreaseKey(self, i, new_val): \n",
    "\t\tself.heap[i] = new_val \n",
    "\t\twhile(i != 0 and self.heap[self.parent(i)] > self.heap[i]): \n",
    "\t\t\t# Swap heap[i] with heap[parent(i)] \n",
    "\t\t\tself.heap[i] , self.heap[self.parent(i)] = ( \n",
    "\t\t\tself.heap[self.parent(i)], self.heap[i]) \n",
    "\t\t\t\n",
    "\t# Method to remove minium element from min heap \n",
    "\tdef extractMin(self): \n",
    "\t\treturn heappop(self.heap) \n",
    "\n",
    "\t# This functon deletes key at index i. It first reduces \n",
    "\t# value to minus infinite and then calls extractMin() \n",
    "\tdef deleteKey(self, i): \n",
    "\t\tself.decreaseKey(i, float(\"-inf\")) \n",
    "\t\tself.extractMin() \n",
    "\n",
    "\t# Get the minimum element from the heap \n",
    "\tdef getMin(self): \n",
    "\t\treturn self.heap[0] \n",
    "\n",
    "# This code is contributed by Nikhil Kumar Singh(nickzuck_007) \n",
    "# found at https://www.geeksforgeeks.org/binary-heap/"
   ]
  },
  {
   "cell_type": "code",
   "execution_count": 97,
   "metadata": {},
   "outputs": [],
   "source": [
    "numbers = np.random.rand(15)\n",
    "numbers"
   ]
  },
  {
   "cell_type": "code",
   "execution_count": 98,
   "metadata": {},
   "outputs": [
    {
     "data": {
      "text/plain": [
       "array([0.86092228, 0.8000746 , 0.61279076, 0.61908752, 0.68255771,\n",
       "       0.32831074, 0.036622  , 0.19876987, 0.79834832, 0.15548973,\n",
       "       0.26733426, 0.88942476, 0.11326293, 0.92346335, 0.20699057])"
      ]
     },
     "execution_count": 98,
     "metadata": {},
     "output_type": "execute_result"
    }
   ],
   "source": [
    "numbers"
   ]
  },
  {
   "cell_type": "code",
   "execution_count": 107,
   "metadata": {},
   "outputs": [],
   "source": [
    "heapObj.insertKey(numbers)"
   ]
  },
  {
   "cell_type": "code",
   "execution_count": 108,
   "metadata": {},
   "outputs": [
    {
     "name": "stdout",
     "output_type": "stream",
     "text": [
      "[0.86092228 0.8000746  0.61279076 0.61908752 0.68255771 0.32831074\n",
      " 0.036622   0.19876987 0.79834832 0.15548973 0.26733426 0.88942476\n",
      " 0.11326293 0.92346335 0.20699057]\n"
     ]
    }
   ],
   "source": [
    "traverse = 15\n",
    "if traverse != 0:\n",
    "    print(heapObj.extractMin())\n",
    "    traverse -= 1\n",
    "else:\n",
    "    pass"
   ]
  },
  {
   "cell_type": "code",
   "execution_count": null,
   "metadata": {},
   "outputs": [],
   "source": []
  }
 ],
 "metadata": {
  "kernelspec": {
   "display_name": "Python 3",
   "language": "python",
   "name": "python3"
  },
  "language_info": {
   "codemirror_mode": {
    "name": "ipython",
    "version": 3
   },
   "file_extension": ".py",
   "mimetype": "text/x-python",
   "name": "python",
   "nbconvert_exporter": "python",
   "pygments_lexer": "ipython3",
   "version": "3.7.4"
  }
 },
 "nbformat": 4,
 "nbformat_minor": 4
}
