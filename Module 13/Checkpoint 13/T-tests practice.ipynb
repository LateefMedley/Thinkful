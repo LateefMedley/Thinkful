{
 "cells": [
  {
   "cell_type": "markdown",
   "metadata": {},
   "source": [
    "## Assignment\n",
    "\n",
    "To help you find your bearings with regard to t-tests, calculate the t-values for the following numbers:\n",
    "\n",
    "1. 𝑦1¯=5 ,  𝑦2¯=8 ,  𝑠1=1 ,  𝑠2=3 ,  𝑁1=200 ,  𝑁2=500 \n",
    "1. 𝑦1¯=1090 ,  𝑦2¯=999 ,  𝑠1=400 ,  𝑠2=30 ,  𝑁1=900 ,  𝑁2=100 \n",
    "1. 𝑦1¯=45 ,  𝑦2¯=40 ,  𝑠1=45 ,  𝑠2=40 ,  𝑁1=2000 ,  𝑁2=2000"
   ]
  },
  {
   "cell_type": "code",
   "execution_count": 1,
   "metadata": {},
   "outputs": [],
   "source": [
    "import numpy as np\n",
    "import pandas as pd\n",
    "import matplotlib.pyplot as plt\n",
    "import seaborn as sns\n",
    "import scipy.stats as stats\n",
    "%matplotlib inline\n"
   ]
  },
  {
   "cell_type": "code",
   "execution_count": 2,
   "metadata": {},
   "outputs": [],
   "source": [
    "#Keeping the random data the same over multiple runs of the code.\n",
    "np.random.seed(42)\n"
   ]
  },
  {
   "cell_type": "code",
   "execution_count": 3,
   "metadata": {},
   "outputs": [],
   "source": [
    "def data_maker(x, y):\n",
    "#Storing our randomly generated data and labels.\n",
    "    data = []\n",
    "    groups = []\n",
    "    labels_std = []\n",
    "    labels_sizes = []\n",
    "\n",
    "#The values we use for the standard deviations and the sample sizes.\n",
    "    std = [x[0], y[0]]\n",
    "    sample_sizes = [x[1], y[1]]\n",
    "    \n",
    "#Generating data for each group for each combination of variability and sample size.\n",
    "    for var in std:\n",
    "        for size in sample_sizes:\n",
    "            data.extend(np.random.normal(x[2],var,size))\n",
    "            data.extend(np.random.normal(y[2],var,size))\n",
    "            labels_std.extend([var]*size*2)\n",
    "            labels_sizes.extend([size]*size*2)\n",
    "            groups.extend(['group1']*size)\n",
    "            groups.extend(['group2']*size)\n",
    "\n",
    "#Putting the data together in a data frame and returning it\n",
    "    data = pd.DataFrame({'data': data, \n",
    "                         'groups' : groups,\n",
    "                        'variability':labels_std,\n",
    "                        'size':labels_sizes})\n",
    "    return data\n"
   ]
  },
  {
   "cell_type": "code",
   "execution_count": 4,
   "metadata": {},
   "outputs": [],
   "source": [
    "def t_tester(data, x, y):\n",
    "\n",
    "# Setting the three non-data columns to work as multi-indices. \n",
    "# This makes it much easier to get subsections of stacked data.\n",
    "    data_test = data.set_index(['groups','size','variability'])\n",
    "    \n",
    "#The values we use for the standard deviations and the sample sizes.\n",
    "    std = [x[0], y[0]]\n",
    "    sample_sizes = [x[1], y[1]]\n",
    "\n",
    "# Storing our t-values and p-values (we'll get to p-values in a sec).\n",
    "    tvalues=[]\n",
    "    pvalues=[]\n",
    "\n",
    "#For each combination of sample size and variability, compare the two groups using a t-test\n",
    "    for size in sample_sizes:\n",
    "        for var in std:\n",
    "            a = data_test['data'].xs(('group1',size,var),level=('groups','size','variability'))\n",
    "            b = data_test['data'].xs(('group2',size,var),level=('groups','size','variability'))\n",
    "            tval,pval=stats.ttest_ind(b, a,equal_var=True)\n",
    "            tvalues.append(tval)\n",
    "            pvalues.append(pval)\n",
    "    return print(\"The tvalues are as follows\", tvalues)\n"
   ]
  },
  {
   "cell_type": "markdown",
   "metadata": {},
   "source": [
    "### Problem #1\n",
    "\n",
    "1. 𝑦1¯=5 ,  𝑦2¯=8 ,  𝑠1=1 ,  𝑠2=3 ,  𝑁1=200 ,  𝑁2=500 "
   ]
  },
  {
   "cell_type": "code",
   "execution_count": 5,
   "metadata": {},
   "outputs": [],
   "source": [
    "# lists to use when creating our datasets\n",
    "DATA_1X = [1, 200, 5]\n",
    "DATA_1Y = [3, 500, 8]\n"
   ]
  },
  {
   "cell_type": "code",
   "execution_count": 6,
   "metadata": {},
   "outputs": [
    {
     "data": {
      "text/html": [
       "<div>\n",
       "<style scoped>\n",
       "    .dataframe tbody tr th:only-of-type {\n",
       "        vertical-align: middle;\n",
       "    }\n",
       "\n",
       "    .dataframe tbody tr th {\n",
       "        vertical-align: top;\n",
       "    }\n",
       "\n",
       "    .dataframe thead th {\n",
       "        text-align: right;\n",
       "    }\n",
       "</style>\n",
       "<table border=\"1\" class=\"dataframe\">\n",
       "  <thead>\n",
       "    <tr style=\"text-align: right;\">\n",
       "      <th></th>\n",
       "      <th>data</th>\n",
       "      <th>groups</th>\n",
       "      <th>variability</th>\n",
       "      <th>size</th>\n",
       "    </tr>\n",
       "  </thead>\n",
       "  <tbody>\n",
       "    <tr>\n",
       "      <th>0</th>\n",
       "      <td>5.496714</td>\n",
       "      <td>group1</td>\n",
       "      <td>1</td>\n",
       "      <td>200</td>\n",
       "    </tr>\n",
       "    <tr>\n",
       "      <th>1</th>\n",
       "      <td>4.861736</td>\n",
       "      <td>group1</td>\n",
       "      <td>1</td>\n",
       "      <td>200</td>\n",
       "    </tr>\n",
       "    <tr>\n",
       "      <th>2</th>\n",
       "      <td>5.647689</td>\n",
       "      <td>group1</td>\n",
       "      <td>1</td>\n",
       "      <td>200</td>\n",
       "    </tr>\n",
       "    <tr>\n",
       "      <th>3</th>\n",
       "      <td>6.523030</td>\n",
       "      <td>group1</td>\n",
       "      <td>1</td>\n",
       "      <td>200</td>\n",
       "    </tr>\n",
       "    <tr>\n",
       "      <th>4</th>\n",
       "      <td>4.765847</td>\n",
       "      <td>group1</td>\n",
       "      <td>1</td>\n",
       "      <td>200</td>\n",
       "    </tr>\n",
       "  </tbody>\n",
       "</table>\n",
       "</div>"
      ],
      "text/plain": [
       "       data  groups  variability  size\n",
       "0  5.496714  group1            1   200\n",
       "1  4.861736  group1            1   200\n",
       "2  5.647689  group1            1   200\n",
       "3  6.523030  group1            1   200\n",
       "4  4.765847  group1            1   200"
      ]
     },
     "execution_count": 6,
     "metadata": {},
     "output_type": "execute_result"
    }
   ],
   "source": [
    "# using data_maker to create a dataframe based on previous lists\n",
    "P1_DF = data_maker(DATA_1X, DATA_1Y)\n",
    "P1_DF.head()\n"
   ]
  },
  {
   "cell_type": "code",
   "execution_count": 7,
   "metadata": {},
   "outputs": [
    {
     "name": "stdout",
     "output_type": "stream",
     "text": [
      "The tvalues are as follows [32.58910059852413, 10.37464123986258, 48.1992971776322, 17.26981222125739]\n"
     ]
    }
   ],
   "source": [
    "# using t_tester to get t-values grouping based on column\n",
    "t_tester(P1_DF, DATA_1X, DATA_1Y)\n"
   ]
  },
  {
   "cell_type": "markdown",
   "metadata": {},
   "source": [
    "### Problem #2\n",
    "\n",
    "1. 𝑦1¯=1090 ,  𝑦2¯=999 ,  𝑠1=400 ,  𝑠2=30 ,  𝑁1=900 ,  𝑁2=100 "
   ]
  },
  {
   "cell_type": "code",
   "execution_count": 8,
   "metadata": {},
   "outputs": [],
   "source": [
    "#std, sample size, and sample mean\n",
    "DATA_2X = [400, 900, 1090]\n",
    "DATA_2Y = [30, 100, 999]\n"
   ]
  },
  {
   "cell_type": "code",
   "execution_count": 9,
   "metadata": {},
   "outputs": [
    {
     "data": {
      "text/html": [
       "<div>\n",
       "<style scoped>\n",
       "    .dataframe tbody tr th:only-of-type {\n",
       "        vertical-align: middle;\n",
       "    }\n",
       "\n",
       "    .dataframe tbody tr th {\n",
       "        vertical-align: top;\n",
       "    }\n",
       "\n",
       "    .dataframe thead th {\n",
       "        text-align: right;\n",
       "    }\n",
       "</style>\n",
       "<table border=\"1\" class=\"dataframe\">\n",
       "  <thead>\n",
       "    <tr style=\"text-align: right;\">\n",
       "      <th></th>\n",
       "      <th>data</th>\n",
       "      <th>groups</th>\n",
       "      <th>variability</th>\n",
       "      <th>size</th>\n",
       "    </tr>\n",
       "  </thead>\n",
       "  <tbody>\n",
       "    <tr>\n",
       "      <th>0</th>\n",
       "      <td>1163.533807</td>\n",
       "      <td>group1</td>\n",
       "      <td>400</td>\n",
       "      <td>900</td>\n",
       "    </tr>\n",
       "    <tr>\n",
       "      <th>1</th>\n",
       "      <td>2167.213466</td>\n",
       "      <td>group1</td>\n",
       "      <td>400</td>\n",
       "      <td>900</td>\n",
       "    </tr>\n",
       "    <tr>\n",
       "      <th>2</th>\n",
       "      <td>1229.920010</td>\n",
       "      <td>group1</td>\n",
       "      <td>400</td>\n",
       "      <td>900</td>\n",
       "    </tr>\n",
       "    <tr>\n",
       "      <th>3</th>\n",
       "      <td>688.378161</td>\n",
       "      <td>group1</td>\n",
       "      <td>400</td>\n",
       "      <td>900</td>\n",
       "    </tr>\n",
       "    <tr>\n",
       "      <th>4</th>\n",
       "      <td>1051.814301</td>\n",
       "      <td>group1</td>\n",
       "      <td>400</td>\n",
       "      <td>900</td>\n",
       "    </tr>\n",
       "  </tbody>\n",
       "</table>\n",
       "</div>"
      ],
      "text/plain": [
       "          data  groups  variability  size\n",
       "0  1163.533807  group1          400   900\n",
       "1  2167.213466  group1          400   900\n",
       "2  1229.920010  group1          400   900\n",
       "3   688.378161  group1          400   900\n",
       "4  1051.814301  group1          400   900"
      ]
     },
     "execution_count": 9,
     "metadata": {},
     "output_type": "execute_result"
    }
   ],
   "source": [
    "P2_DF = data_maker(DATA_2X, DATA_2Y)\n",
    "P2_DF.head()\n"
   ]
  },
  {
   "cell_type": "code",
   "execution_count": 10,
   "metadata": {},
   "outputs": [
    {
     "name": "stdout",
     "output_type": "stream",
     "text": [
      "The tvalues are as follows [-6.622557090008956, -64.7139612214455, -1.772836309857788, -19.38769160154602]\n"
     ]
    }
   ],
   "source": [
    "t_tester(P2_DF, DATA_2X, DATA_2Y)\n"
   ]
  },
  {
   "cell_type": "markdown",
   "metadata": {},
   "source": [
    "### Problem #3\n",
    "\n",
    "1. 𝑦1¯=45 ,  𝑦2¯=40 ,  𝑠1=45 ,  𝑠2=40 ,  𝑁1=2000 ,  𝑁2=2000"
   ]
  },
  {
   "cell_type": "code",
   "execution_count": 11,
   "metadata": {},
   "outputs": [],
   "source": [
    "#std, sample size, and sample mean\n",
    "DATA_3X = [45, 2000, 45]\n",
    "DATA_3Y = [40, 2000, 40]\n"
   ]
  },
  {
   "cell_type": "code",
   "execution_count": 12,
   "metadata": {},
   "outputs": [
    {
     "data": {
      "text/html": [
       "<div>\n",
       "<style scoped>\n",
       "    .dataframe tbody tr th:only-of-type {\n",
       "        vertical-align: middle;\n",
       "    }\n",
       "\n",
       "    .dataframe tbody tr th {\n",
       "        vertical-align: top;\n",
       "    }\n",
       "\n",
       "    .dataframe thead th {\n",
       "        text-align: right;\n",
       "    }\n",
       "</style>\n",
       "<table border=\"1\" class=\"dataframe\">\n",
       "  <thead>\n",
       "    <tr style=\"text-align: right;\">\n",
       "      <th></th>\n",
       "      <th>data</th>\n",
       "      <th>groups</th>\n",
       "      <th>variability</th>\n",
       "      <th>size</th>\n",
       "    </tr>\n",
       "  </thead>\n",
       "  <tbody>\n",
       "    <tr>\n",
       "      <th>0</th>\n",
       "      <td>2.297123</td>\n",
       "      <td>group1</td>\n",
       "      <td>45</td>\n",
       "      <td>2000</td>\n",
       "    </tr>\n",
       "    <tr>\n",
       "      <th>1</th>\n",
       "      <td>4.189371</td>\n",
       "      <td>group1</td>\n",
       "      <td>45</td>\n",
       "      <td>2000</td>\n",
       "    </tr>\n",
       "    <tr>\n",
       "      <th>2</th>\n",
       "      <td>-60.770513</td>\n",
       "      <td>group1</td>\n",
       "      <td>45</td>\n",
       "      <td>2000</td>\n",
       "    </tr>\n",
       "    <tr>\n",
       "      <th>3</th>\n",
       "      <td>120.279069</td>\n",
       "      <td>group1</td>\n",
       "      <td>45</td>\n",
       "      <td>2000</td>\n",
       "    </tr>\n",
       "    <tr>\n",
       "      <th>4</th>\n",
       "      <td>6.120907</td>\n",
       "      <td>group1</td>\n",
       "      <td>45</td>\n",
       "      <td>2000</td>\n",
       "    </tr>\n",
       "  </tbody>\n",
       "</table>\n",
       "</div>"
      ],
      "text/plain": [
       "         data  groups  variability  size\n",
       "0    2.297123  group1           45  2000\n",
       "1    4.189371  group1           45  2000\n",
       "2  -60.770513  group1           45  2000\n",
       "3  120.279069  group1           45  2000\n",
       "4    6.120907  group1           45  2000"
      ]
     },
     "execution_count": 12,
     "metadata": {},
     "output_type": "execute_result"
    }
   ],
   "source": [
    "P3_DF = data_maker(DATA_3X, DATA_3Y)\n",
    "P3_DF.head()\n"
   ]
  },
  {
   "cell_type": "code",
   "execution_count": 13,
   "metadata": {},
   "outputs": [
    {
     "name": "stdout",
     "output_type": "stream",
     "text": [
      "The tvalues are as follows [-4.944695381160954, -5.372905703529876, -4.944695381160954, -5.372905703529876]\n"
     ]
    }
   ],
   "source": [
    "t_tester(P3_DF, DATA_3X, DATA_3Y)\n"
   ]
  },
  {
   "cell_type": "code",
   "execution_count": null,
   "metadata": {},
   "outputs": [],
   "source": []
  }
 ],
 "metadata": {
  "kernelspec": {
   "display_name": "Python 3",
   "language": "python",
   "name": "python3"
  },
  "language_info": {
   "codemirror_mode": {
    "name": "ipython",
    "version": 3
   },
   "file_extension": ".py",
   "mimetype": "text/x-python",
   "name": "python",
   "nbconvert_exporter": "python",
   "pygments_lexer": "ipython3",
   "version": "3.7.3"
  }
 },
 "nbformat": 4,
 "nbformat_minor": 2
}
